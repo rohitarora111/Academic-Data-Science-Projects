{
  "nbformat": 4,
  "nbformat_minor": 0,
  "metadata": {
    "colab": {
      "name": "Taxi Fare Project.ipynb",
      "provenance": [],
      "collapsed_sections": []
    },
    "kernelspec": {
      "name": "python3",
      "display_name": "Python 3"
    },
    "language_info": {
      "name": "python"
    }
  },
  "cells": [
    {
      "cell_type": "markdown",
      "metadata": {
        "id": "sGIlHcli1MAy"
      },
      "source": [
        "<html><center><h1>The objective is to predict taxi fare for a particular journey made <br> using <b>Random forest algorithm<h1></center>\n",
        "</html>"
      ]
    },
    {
      "cell_type": "markdown",
      "metadata": {
        "id": "R9UUCueu3Lw0"
      },
      "source": [
        "Importing necessary libraries"
      ]
    },
    {
      "cell_type": "code",
      "metadata": {
        "id": "NqHrFXUxMjRY"
      },
      "source": [
        "import pandas as pd \n",
        "import seaborn as sns\n",
        "import matplotlib.pyplot as plt\n",
        "from sklearn.model_selection import train_test_split\n",
        "from sklearn.ensemble import RandomForestRegressor\n",
        "from sklearn.metrics import accuracy_score,r2_score\n",
        "from sklearn import tree\n",
        "plt.rcParams['figure.figsize']=(20,8)"
      ],
      "execution_count": 20,
      "outputs": []
    },
    {
      "cell_type": "markdown",
      "metadata": {
        "id": "qNpZAUbVBiyk"
      },
      "source": [
        "Importing the Dataset"
      ]
    },
    {
      "cell_type": "code",
      "metadata": {
        "id": "gNUIb4gDOkyJ"
      },
      "source": [
        "data=pd.read_csv(\"TaxiFare.csv\")"
      ],
      "execution_count": 2,
      "outputs": []
    },
    {
      "cell_type": "code",
      "metadata": {
        "colab": {
          "base_uri": "https://localhost:8080/",
          "height": 195
        },
        "id": "rpvLsD6_OozD",
        "outputId": "bf97f14f-7095-4257-a0dd-e15b1f2568e8"
      },
      "source": [
        "data.head()"
      ],
      "execution_count": 4,
      "outputs": [
        {
          "output_type": "execute_result",
          "data": {
            "text/html": [
              "<div>\n",
              "<style scoped>\n",
              "    .dataframe tbody tr th:only-of-type {\n",
              "        vertical-align: middle;\n",
              "    }\n",
              "\n",
              "    .dataframe tbody tr th {\n",
              "        vertical-align: top;\n",
              "    }\n",
              "\n",
              "    .dataframe thead th {\n",
              "        text-align: right;\n",
              "    }\n",
              "</style>\n",
              "<table border=\"1\" class=\"dataframe\">\n",
              "  <thead>\n",
              "    <tr style=\"text-align: right;\">\n",
              "      <th></th>\n",
              "      <th>unique_id</th>\n",
              "      <th>amount</th>\n",
              "      <th>date_time_of_pickup</th>\n",
              "      <th>longitude_of_pickup</th>\n",
              "      <th>latitude_of_pickup</th>\n",
              "      <th>longitude_of_dropoff</th>\n",
              "      <th>latitude_of_dropoff</th>\n",
              "      <th>no_of_passenger</th>\n",
              "    </tr>\n",
              "  </thead>\n",
              "  <tbody>\n",
              "    <tr>\n",
              "      <th>0</th>\n",
              "      <td>26:21.0</td>\n",
              "      <td>4.5</td>\n",
              "      <td>2009-06-15 17:26:21 UTC</td>\n",
              "      <td>-73.844311</td>\n",
              "      <td>40.721319</td>\n",
              "      <td>-73.841610</td>\n",
              "      <td>40.712278</td>\n",
              "      <td>1</td>\n",
              "    </tr>\n",
              "    <tr>\n",
              "      <th>1</th>\n",
              "      <td>52:16.0</td>\n",
              "      <td>16.9</td>\n",
              "      <td>2010-01-05 16:52:16 UTC</td>\n",
              "      <td>-74.016048</td>\n",
              "      <td>40.711303</td>\n",
              "      <td>-73.979268</td>\n",
              "      <td>40.782004</td>\n",
              "      <td>1</td>\n",
              "    </tr>\n",
              "    <tr>\n",
              "      <th>2</th>\n",
              "      <td>35:00.0</td>\n",
              "      <td>5.7</td>\n",
              "      <td>2011-08-18 00:35:00 UTC</td>\n",
              "      <td>-73.982738</td>\n",
              "      <td>40.761270</td>\n",
              "      <td>-73.991242</td>\n",
              "      <td>40.750562</td>\n",
              "      <td>2</td>\n",
              "    </tr>\n",
              "    <tr>\n",
              "      <th>3</th>\n",
              "      <td>30:42.0</td>\n",
              "      <td>7.7</td>\n",
              "      <td>2012-04-21 04:30:42 UTC</td>\n",
              "      <td>-73.987130</td>\n",
              "      <td>40.733143</td>\n",
              "      <td>-73.991567</td>\n",
              "      <td>40.758092</td>\n",
              "      <td>1</td>\n",
              "    </tr>\n",
              "    <tr>\n",
              "      <th>4</th>\n",
              "      <td>51:00.0</td>\n",
              "      <td>5.3</td>\n",
              "      <td>2010-03-09 07:51:00 UTC</td>\n",
              "      <td>-73.968095</td>\n",
              "      <td>40.768008</td>\n",
              "      <td>-73.956655</td>\n",
              "      <td>40.783762</td>\n",
              "      <td>1</td>\n",
              "    </tr>\n",
              "  </tbody>\n",
              "</table>\n",
              "</div>"
            ],
            "text/plain": [
              "  unique_id  amount  ... latitude_of_dropoff  no_of_passenger\n",
              "0   26:21.0     4.5  ...           40.712278                1\n",
              "1   52:16.0    16.9  ...           40.782004                1\n",
              "2   35:00.0     5.7  ...           40.750562                2\n",
              "3   30:42.0     7.7  ...           40.758092                1\n",
              "4   51:00.0     5.3  ...           40.783762                1\n",
              "\n",
              "[5 rows x 8 columns]"
            ]
          },
          "metadata": {
            "tags": []
          },
          "execution_count": 4
        }
      ]
    },
    {
      "cell_type": "code",
      "metadata": {
        "colab": {
          "base_uri": "https://localhost:8080/"
        },
        "id": "D0x9Bxu0SVc8",
        "outputId": "647abd00-f628-429b-dbce-8b362dd0bfa4"
      },
      "source": [
        "data.info()"
      ],
      "execution_count": 5,
      "outputs": [
        {
          "output_type": "stream",
          "text": [
            "<class 'pandas.core.frame.DataFrame'>\n",
            "RangeIndex: 50000 entries, 0 to 49999\n",
            "Data columns (total 8 columns):\n",
            " #   Column                Non-Null Count  Dtype  \n",
            "---  ------                --------------  -----  \n",
            " 0   unique_id             50000 non-null  object \n",
            " 1   amount                50000 non-null  float64\n",
            " 2   date_time_of_pickup   50000 non-null  object \n",
            " 3   longitude_of_pickup   50000 non-null  float64\n",
            " 4   latitude_of_pickup    50000 non-null  float64\n",
            " 5   longitude_of_dropoff  50000 non-null  float64\n",
            " 6   latitude_of_dropoff   50000 non-null  float64\n",
            " 7   no_of_passenger       50000 non-null  int64  \n",
            "dtypes: float64(5), int64(1), object(2)\n",
            "memory usage: 3.1+ MB\n"
          ],
          "name": "stdout"
        }
      ]
    },
    {
      "cell_type": "markdown",
      "metadata": {
        "id": "udGGsLYH3fzy"
      },
      "source": [
        "Preprocessing of data"
      ]
    },
    {
      "cell_type": "code",
      "metadata": {
        "id": "GaSTM6qo4fB4"
      },
      "source": [
        "df=pd.DataFrame()\n",
        "df['datetime']= pd.to_datetime(data[\"date_time_of_pickup\"])"
      ],
      "execution_count": 3,
      "outputs": []
    },
    {
      "cell_type": "code",
      "metadata": {
        "id": "pLL-A9ru5QGj"
      },
      "source": [
        "data['year'] = df['datetime'].dt.year \n",
        "data['month'] = df['datetime'].dt.month \n",
        "data['day'] = df['datetime'].dt.day \n",
        "data['hour'] = df['datetime'].dt.hour \n",
        "data['minute'] = df['datetime'].dt.minute\n",
        "data['second']=df['datetime'].dt.second"
      ],
      "execution_count": 4,
      "outputs": []
    },
    {
      "cell_type": "code",
      "metadata": {
        "id": "wzERL8sMOrdw"
      },
      "source": [
        "data.drop(['unique_id','date_time_of_pickup'],axis=1,inplace=True)"
      ],
      "execution_count": 5,
      "outputs": []
    },
    {
      "cell_type": "code",
      "metadata": {
        "colab": {
          "base_uri": "https://localhost:8080/",
          "height": 195
        },
        "id": "Rtbs8F_n6IFx",
        "outputId": "1b46fbbd-228f-4136-909a-0b3b0af66c1b"
      },
      "source": [
        "data.head()"
      ],
      "execution_count": 18,
      "outputs": [
        {
          "output_type": "execute_result",
          "data": {
            "text/html": [
              "<div>\n",
              "<style scoped>\n",
              "    .dataframe tbody tr th:only-of-type {\n",
              "        vertical-align: middle;\n",
              "    }\n",
              "\n",
              "    .dataframe tbody tr th {\n",
              "        vertical-align: top;\n",
              "    }\n",
              "\n",
              "    .dataframe thead th {\n",
              "        text-align: right;\n",
              "    }\n",
              "</style>\n",
              "<table border=\"1\" class=\"dataframe\">\n",
              "  <thead>\n",
              "    <tr style=\"text-align: right;\">\n",
              "      <th></th>\n",
              "      <th>amount</th>\n",
              "      <th>longitude_of_pickup</th>\n",
              "      <th>latitude_of_pickup</th>\n",
              "      <th>longitude_of_dropoff</th>\n",
              "      <th>latitude_of_dropoff</th>\n",
              "      <th>no_of_passenger</th>\n",
              "      <th>year</th>\n",
              "      <th>month</th>\n",
              "      <th>day</th>\n",
              "      <th>hour</th>\n",
              "      <th>minute</th>\n",
              "      <th>second</th>\n",
              "    </tr>\n",
              "  </thead>\n",
              "  <tbody>\n",
              "    <tr>\n",
              "      <th>0</th>\n",
              "      <td>4.5</td>\n",
              "      <td>-73.844311</td>\n",
              "      <td>40.721319</td>\n",
              "      <td>-73.841610</td>\n",
              "      <td>40.712278</td>\n",
              "      <td>1</td>\n",
              "      <td>2009</td>\n",
              "      <td>6</td>\n",
              "      <td>15</td>\n",
              "      <td>17</td>\n",
              "      <td>26</td>\n",
              "      <td>21</td>\n",
              "    </tr>\n",
              "    <tr>\n",
              "      <th>1</th>\n",
              "      <td>16.9</td>\n",
              "      <td>-74.016048</td>\n",
              "      <td>40.711303</td>\n",
              "      <td>-73.979268</td>\n",
              "      <td>40.782004</td>\n",
              "      <td>1</td>\n",
              "      <td>2010</td>\n",
              "      <td>1</td>\n",
              "      <td>5</td>\n",
              "      <td>16</td>\n",
              "      <td>52</td>\n",
              "      <td>16</td>\n",
              "    </tr>\n",
              "    <tr>\n",
              "      <th>2</th>\n",
              "      <td>5.7</td>\n",
              "      <td>-73.982738</td>\n",
              "      <td>40.761270</td>\n",
              "      <td>-73.991242</td>\n",
              "      <td>40.750562</td>\n",
              "      <td>2</td>\n",
              "      <td>2011</td>\n",
              "      <td>8</td>\n",
              "      <td>18</td>\n",
              "      <td>0</td>\n",
              "      <td>35</td>\n",
              "      <td>0</td>\n",
              "    </tr>\n",
              "    <tr>\n",
              "      <th>3</th>\n",
              "      <td>7.7</td>\n",
              "      <td>-73.987130</td>\n",
              "      <td>40.733143</td>\n",
              "      <td>-73.991567</td>\n",
              "      <td>40.758092</td>\n",
              "      <td>1</td>\n",
              "      <td>2012</td>\n",
              "      <td>4</td>\n",
              "      <td>21</td>\n",
              "      <td>4</td>\n",
              "      <td>30</td>\n",
              "      <td>42</td>\n",
              "    </tr>\n",
              "    <tr>\n",
              "      <th>4</th>\n",
              "      <td>5.3</td>\n",
              "      <td>-73.968095</td>\n",
              "      <td>40.768008</td>\n",
              "      <td>-73.956655</td>\n",
              "      <td>40.783762</td>\n",
              "      <td>1</td>\n",
              "      <td>2010</td>\n",
              "      <td>3</td>\n",
              "      <td>9</td>\n",
              "      <td>7</td>\n",
              "      <td>51</td>\n",
              "      <td>0</td>\n",
              "    </tr>\n",
              "  </tbody>\n",
              "</table>\n",
              "</div>"
            ],
            "text/plain": [
              "   amount  longitude_of_pickup  latitude_of_pickup  ...  hour  minute  second\n",
              "0     4.5           -73.844311           40.721319  ...    17      26      21\n",
              "1    16.9           -74.016048           40.711303  ...    16      52      16\n",
              "2     5.7           -73.982738           40.761270  ...     0      35       0\n",
              "3     7.7           -73.987130           40.733143  ...     4      30      42\n",
              "4     5.3           -73.968095           40.768008  ...     7      51       0\n",
              "\n",
              "[5 rows x 12 columns]"
            ]
          },
          "metadata": {
            "tags": []
          },
          "execution_count": 18
        }
      ]
    },
    {
      "cell_type": "code",
      "metadata": {
        "colab": {
          "base_uri": "https://localhost:8080/"
        },
        "id": "VcFQtmMU-MeN",
        "outputId": "d366aa15-80fb-422f-951f-e9366696f9b0"
      },
      "source": [
        "print(data['year'].unique())\n",
        "print(data['month'].unique())\n",
        "print(len(data['day'].unique()))"
      ],
      "execution_count": 38,
      "outputs": [
        {
          "output_type": "stream",
          "text": [
            "[2009 2010 2011 2012 2013 2014 2015]\n",
            "[ 6  1  8  4  3 11 12  9  7  2  5 10]\n",
            "31\n"
          ],
          "name": "stdout"
        }
      ]
    },
    {
      "cell_type": "markdown",
      "metadata": {
        "id": "8mb4GMYL-Ef1"
      },
      "source": [
        "We can clearly see that people prefer travelling alone in Taxi"
      ]
    },
    {
      "cell_type": "code",
      "metadata": {
        "colab": {
          "base_uri": "https://localhost:8080/",
          "height": 297
        },
        "id": "OHjPQ8XubrAn",
        "outputId": "ccb1f228-e5ae-4fac-a945-70fd403eb1a5"
      },
      "source": [
        "sns.countplot(x=data['no_of_passenger'])"
      ],
      "execution_count": 6,
      "outputs": [
        {
          "output_type": "execute_result",
          "data": {
            "text/plain": [
              "<matplotlib.axes._subplots.AxesSubplot at 0x7fc308e12a10>"
            ]
          },
          "metadata": {
            "tags": []
          },
          "execution_count": 6
        },
        {
          "output_type": "display_data",
          "data": {
            "image/png": "[encoded data removed]",
            "text/plain": [
              "<Figure size 432x288 with 1 Axes>"
            ]
          },
          "metadata": {
            "tags": [],
            "needs_background": "light"
          }
        }
      ]
    },
    {
      "cell_type": "code",
      "metadata": {
        "colab": {
          "base_uri": "https://localhost:8080/",
          "height": 587
        },
        "id": "ngFmtenO9oFw",
        "outputId": "0417f956-6050-4435-c556-2edea9eb2b4c"
      },
      "source": [
        "sns.heatmap(data.corr(),annot=True)"
      ],
      "execution_count": 21,
      "outputs": [
        {
          "output_type": "execute_result",
          "data": {
            "text/plain": [
              "<matplotlib.axes._subplots.AxesSubplot at 0x7fc2eb9c9cd0>"
            ]
          },
          "metadata": {
            "tags": []
          },
          "execution_count": 21
        },
        {
          "output_type": "display_data",
          "data": {
            "image/png": "[encoded data removed]",
            "text/plain": [
              "<Figure size 1440x576 with 2 Axes>"
            ]
          },
          "metadata": {
            "tags": [],
            "needs_background": "light"
          }
        }
      ]
    },
    {
      "cell_type": "markdown",
      "metadata": {
        "id": "FkT97tkPAZIU"
      },
      "source": [
        "Splitting the dataset for training and testing"
      ]
    },
    {
      "cell_type": "code",
      "metadata": {
        "id": "flMAEoyVPs0X"
      },
      "source": [
        "Xtrain,Xtest,Ytrain,Ytest=train_test_split(data.drop(['amount'],axis=1),data['amount'],random_state=14,test_size=0.3)"
      ],
      "execution_count": 7,
      "outputs": []
    },
    {
      "cell_type": "code",
      "metadata": {
        "id": "4wyj9stWTfTs"
      },
      "source": [
        "rf=RandomForestRegressor(n_estimators=1000)"
      ],
      "execution_count": 14,
      "outputs": []
    },
    {
      "cell_type": "markdown",
      "metadata": {
        "id": "a_2rnlIlAg0_"
      },
      "source": [
        "Building our Random forest model"
      ]
    },
    {
      "cell_type": "code",
      "metadata": {
        "colab": {
          "base_uri": "https://localhost:8080/"
        },
        "id": "rYpw0jQvT0ux",
        "outputId": "58c9ac33-09ba-4673-bc60-4ce0d2014356"
      },
      "source": [
        "rf.fit(Xtrain,Ytrain)"
      ],
      "execution_count": 15,
      "outputs": [
        {
          "output_type": "execute_result",
          "data": {
            "text/plain": [
              "RandomForestRegressor(bootstrap=True, ccp_alpha=0.0, criterion='mse',\n",
              "                      max_depth=None, max_features='auto', max_leaf_nodes=None,\n",
              "                      max_samples=None, min_impurity_decrease=0.0,\n",
              "                      min_impurity_split=None, min_samples_leaf=1,\n",
              "                      min_samples_split=2, min_weight_fraction_leaf=0.0,\n",
              "                      n_estimators=1000, n_jobs=None, oob_score=False,\n",
              "                      random_state=None, verbose=0, warm_start=False)"
            ]
          },
          "metadata": {
            "tags": []
          },
          "execution_count": 15
        }
      ]
    },
    {
      "cell_type": "code",
      "metadata": {
        "id": "6aEb70stT95q"
      },
      "source": [
        "pred=rf.predict(Xtest)"
      ],
      "execution_count": 16,
      "outputs": []
    },
    {
      "cell_type": "code",
      "metadata": {
        "colab": {
          "base_uri": "https://localhost:8080/"
        },
        "id": "xxaz5JC-ynJ5",
        "outputId": "cb577803-59d3-42a3-f72e-07855a450b39"
      },
      "source": [
        "round(r2_score(Ytest,pred),2)*100"
      ],
      "execution_count": 41,
      "outputs": [
        {
          "output_type": "execute_result",
          "data": {
            "text/plain": [
              "75.0"
            ]
          },
          "metadata": {
            "tags": []
          },
          "execution_count": 41
        }
      ]
    },
    {
      "cell_type": "markdown",
      "metadata": {
        "id": "HOLDQd6EAnip"
      },
      "source": [
        "**Our model is 75% confident on it's prediction**\n",
        "\n"
      ]
    }
  ]
}