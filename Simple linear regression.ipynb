{
 "cells": [
  {
   "cell_type": "markdown",
   "metadata": {},
   "source": [
    "# Building a Linear Regression Model to predict price of house(from Scatch)  "
   ]
  },
  {
   "cell_type": "code",
   "execution_count": 38,
   "metadata": {
    "id": "LHgNnOKJftCV"
   },
   "outputs": [],
   "source": [
    "import numpy as np"
   ]
  },
  {
   "cell_type": "code",
   "execution_count": 36,
   "metadata": {
    "id": "jjIsCoaDgVtX"
   },
   "outputs": [],
   "source": [
    "x=[100,120,125,121,122,145,134] #Size of the land\n",
    "y=[20000,20500,20600,20525,20550,22500,21400]# corresponding Price of the land"
   ]
  },
  {
   "cell_type": "code",
   "execution_count": 39,
   "metadata": {
    "id": "pR95aoixk4EL"
   },
   "outputs": [],
   "source": [
    "#collecting means\n",
    "xmean=np.mean(x) \n",
    "ymean=np.mean(y)"
   ]
  },
  {
   "cell_type": "code",
   "execution_count": 42,
   "metadata": {
    "id": "GP12xcMjpdAa"
   },
   "outputs": [],
   "source": [
    "#Calculating the covariance of x&y and variance of x\n",
    "num,den=0,0\n",
    "for i in range(len(x)):\n",
    "  num=num+(x[i]-xmean)*(y[i]-ymean)\n",
    "  den=den+(x[i]-xmean)**2\n"
   ]
  },
  {
   "cell_type": "code",
   "execution_count": 44,
   "metadata": {
    "colab": {
     "base_uri": "https://localhost:8080/"
    },
    "id": "xlZAQ__5pdDh",
    "outputId": "dcb0c0e7-a02d-4632-f910-a156c45b0874"
   },
   "outputs": [
    {
     "data": {
      "text/plain": [
       "55.188091679123055"
      ]
     },
     "execution_count": 44,
     "metadata": {
      "tags": []
     },
     "output_type": "execute_result"
    }
   ],
   "source": [
    "#Calculating the coeff of equation\n",
    "b=num/den\n",
    "b"
   ]
  },
  {
   "cell_type": "code",
   "execution_count": 45,
   "metadata": {
    "id": "8rZkYbajpdE2"
   },
   "outputs": [],
   "source": [
    "#estimating the intercept\n",
    "inter=ymean-(b*xmean)"
   ]
  },
  {
   "cell_type": "code",
   "execution_count": 58,
   "metadata": {
    "colab": {
     "base_uri": "https://localhost:8080/"
    },
    "id": "cEPU7IMfuMb9",
    "outputId": "5a105ce9-9692-442e-b951-918f8bc8249c"
   },
   "outputs": [
    {
     "name": "stdout",
     "output_type": "stream",
     "text": [
      "Enter the house size you want to know the size of200\n",
      "25070.0\n"
     ]
    }
   ],
   "source": [
    "n=int(input(\"Enter the house size you want to know the size of\"))\n",
    "predy=inter+b*n # applying the formula y = mx+b\n",
    "print(round(predy,1))"
   ]
  }
 ],
 "metadata": {
  "colab": {
   "name": "Simple linear regression.ipynb",
   "provenance": []
  },
  "kernelspec": {
   "display_name": "Python 3",
   "language": "python",
   "name": "python3"
  },
  "language_info": {
   "codemirror_mode": {
    "name": "ipython",
    "version": 3
   },
   "file_extension": ".py",
   "mimetype": "text/x-python",
   "name": "python",
   "nbconvert_exporter": "python",
   "pygments_lexer": "ipython3",
   "version": "3.8.8"
  }
 },
 "nbformat": 4,
 "nbformat_minor": 1
}
