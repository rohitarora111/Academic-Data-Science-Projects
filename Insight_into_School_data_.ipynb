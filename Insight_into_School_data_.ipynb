{
  "nbformat": 4,
  "nbformat_minor": 0,
  "metadata": {
    "colab": {
      "name": "Insight into School data .ipynb",
      "provenance": [],
      "collapsed_sections": []
    },
    "kernelspec": {
      "display_name": "Python 3",
      "language": "python",
      "name": "python3"
    },
    "language_info": {
      "codemirror_mode": {
        "name": "ipython",
        "version": 3
      },
      "file_extension": ".py",
      "mimetype": "text/x-python",
      "name": "python",
      "nbconvert_exporter": "python",
      "pygments_lexer": "ipython3",
      "version": "3.8.8"
    }
  },
  "cells": [
    {
      "cell_type": "markdown",
      "metadata": {
        "id": "lIBLRoW17HCR"
      },
      "source": [
        "# Predicting the Grade of student using different features and gathering insights from School data"
      ]
    },
    {
      "cell_type": "code",
      "metadata": {
        "id": "8Z2Bl--mxC9R"
      },
      "source": [
        "import pandas as pd\n",
        "import numpy as np\n",
        "import seaborn as sns\n",
        "sns.set(rc={\"figure.figsize\":(15,8)})\n",
        "import warnings\n",
        "warnings.filterwarnings('ignore')"
      ],
      "execution_count": 331,
      "outputs": []
    },
    {
      "cell_type": "code",
      "metadata": {
        "id": "D5guXtsbxZ10"
      },
      "source": [
        "data=pd.read_csv(\"xAPI-Edu-Data.csv\")\n",
        "d=data[\"Class\"]"
      ],
      "execution_count": 332,
      "outputs": []
    },
    {
      "cell_type": "code",
      "metadata": {
        "colab": {
          "base_uri": "https://localhost:8080/",
          "height": 215
        },
        "id": "5ZrFw3pt13Yp",
        "outputId": "420e2bd5-8741-4653-b2bc-85637a44d17a"
      },
      "source": [
        "data.head()"
      ],
      "execution_count": 333,
      "outputs": [
        {
          "output_type": "execute_result",
          "data": {
            "text/html": [
              "<div>\n",
              "<style scoped>\n",
              "    .dataframe tbody tr th:only-of-type {\n",
              "        vertical-align: middle;\n",
              "    }\n",
              "\n",
              "    .dataframe tbody tr th {\n",
              "        vertical-align: top;\n",
              "    }\n",
              "\n",
              "    .dataframe thead th {\n",
              "        text-align: right;\n",
              "    }\n",
              "</style>\n",
              "<table border=\"1\" class=\"dataframe\">\n",
              "  <thead>\n",
              "    <tr style=\"text-align: right;\">\n",
              "      <th></th>\n",
              "      <th>gender</th>\n",
              "      <th>NationalITy</th>\n",
              "      <th>PlaceofBirth</th>\n",
              "      <th>StageID</th>\n",
              "      <th>GradeID</th>\n",
              "      <th>SectionID</th>\n",
              "      <th>Topic</th>\n",
              "      <th>Semester</th>\n",
              "      <th>Relation</th>\n",
              "      <th>raisedhands</th>\n",
              "      <th>VisITedResources</th>\n",
              "      <th>AnnouncementsView</th>\n",
              "      <th>Discussion</th>\n",
              "      <th>ParentAnsweringSurvey</th>\n",
              "      <th>ParentschoolSatisfaction</th>\n",
              "      <th>StudentAbsenceDays</th>\n",
              "      <th>Class</th>\n",
              "    </tr>\n",
              "  </thead>\n",
              "  <tbody>\n",
              "    <tr>\n",
              "      <th>0</th>\n",
              "      <td>M</td>\n",
              "      <td>KW</td>\n",
              "      <td>KuwaIT</td>\n",
              "      <td>lowerlevel</td>\n",
              "      <td>G-04</td>\n",
              "      <td>A</td>\n",
              "      <td>IT</td>\n",
              "      <td>F</td>\n",
              "      <td>Father</td>\n",
              "      <td>15</td>\n",
              "      <td>16</td>\n",
              "      <td>2</td>\n",
              "      <td>20</td>\n",
              "      <td>Yes</td>\n",
              "      <td>Good</td>\n",
              "      <td>Under-7</td>\n",
              "      <td>M</td>\n",
              "    </tr>\n",
              "    <tr>\n",
              "      <th>1</th>\n",
              "      <td>M</td>\n",
              "      <td>KW</td>\n",
              "      <td>KuwaIT</td>\n",
              "      <td>lowerlevel</td>\n",
              "      <td>G-04</td>\n",
              "      <td>A</td>\n",
              "      <td>IT</td>\n",
              "      <td>F</td>\n",
              "      <td>Father</td>\n",
              "      <td>20</td>\n",
              "      <td>20</td>\n",
              "      <td>3</td>\n",
              "      <td>25</td>\n",
              "      <td>Yes</td>\n",
              "      <td>Good</td>\n",
              "      <td>Under-7</td>\n",
              "      <td>M</td>\n",
              "    </tr>\n",
              "    <tr>\n",
              "      <th>2</th>\n",
              "      <td>M</td>\n",
              "      <td>KW</td>\n",
              "      <td>KuwaIT</td>\n",
              "      <td>lowerlevel</td>\n",
              "      <td>G-04</td>\n",
              "      <td>A</td>\n",
              "      <td>IT</td>\n",
              "      <td>F</td>\n",
              "      <td>Father</td>\n",
              "      <td>10</td>\n",
              "      <td>7</td>\n",
              "      <td>0</td>\n",
              "      <td>30</td>\n",
              "      <td>No</td>\n",
              "      <td>Bad</td>\n",
              "      <td>Above-7</td>\n",
              "      <td>L</td>\n",
              "    </tr>\n",
              "    <tr>\n",
              "      <th>3</th>\n",
              "      <td>M</td>\n",
              "      <td>KW</td>\n",
              "      <td>KuwaIT</td>\n",
              "      <td>lowerlevel</td>\n",
              "      <td>G-04</td>\n",
              "      <td>A</td>\n",
              "      <td>IT</td>\n",
              "      <td>F</td>\n",
              "      <td>Father</td>\n",
              "      <td>30</td>\n",
              "      <td>25</td>\n",
              "      <td>5</td>\n",
              "      <td>35</td>\n",
              "      <td>No</td>\n",
              "      <td>Bad</td>\n",
              "      <td>Above-7</td>\n",
              "      <td>L</td>\n",
              "    </tr>\n",
              "    <tr>\n",
              "      <th>4</th>\n",
              "      <td>M</td>\n",
              "      <td>KW</td>\n",
              "      <td>KuwaIT</td>\n",
              "      <td>lowerlevel</td>\n",
              "      <td>G-04</td>\n",
              "      <td>A</td>\n",
              "      <td>IT</td>\n",
              "      <td>F</td>\n",
              "      <td>Father</td>\n",
              "      <td>40</td>\n",
              "      <td>50</td>\n",
              "      <td>12</td>\n",
              "      <td>50</td>\n",
              "      <td>No</td>\n",
              "      <td>Bad</td>\n",
              "      <td>Above-7</td>\n",
              "      <td>M</td>\n",
              "    </tr>\n",
              "  </tbody>\n",
              "</table>\n",
              "</div>"
            ],
            "text/plain": [
              "  gender NationalITy  ... StudentAbsenceDays Class\n",
              "0      M          KW  ...            Under-7     M\n",
              "1      M          KW  ...            Under-7     M\n",
              "2      M          KW  ...            Above-7     L\n",
              "3      M          KW  ...            Above-7     L\n",
              "4      M          KW  ...            Above-7     M\n",
              "\n",
              "[5 rows x 17 columns]"
            ]
          },
          "metadata": {
            "tags": []
          },
          "execution_count": 333
        }
      ]
    },
    {
      "cell_type": "markdown",
      "metadata": {
        "id": "eUZjPy5sRz4K"
      },
      "source": [
        ">Exploratory Data Analysis"
      ]
    },
    {
      "cell_type": "code",
      "metadata": {
        "colab": {
          "base_uri": "https://localhost:8080/"
        },
        "id": "8INpBXrB5pk7",
        "outputId": "59f1c751-2048-4736-f1e3-68ddca789eeb"
      },
      "source": [
        "data.shape"
      ],
      "execution_count": 334,
      "outputs": [
        {
          "output_type": "execute_result",
          "data": {
            "text/plain": [
              "(480, 17)"
            ]
          },
          "metadata": {
            "tags": []
          },
          "execution_count": 334
        }
      ]
    },
    {
      "cell_type": "code",
      "metadata": {
        "colab": {
          "base_uri": "https://localhost:8080/"
        },
        "id": "z3icV-E33P6j",
        "outputId": "19790fc9-db7b-459b-b4de-adfbabcd56ef"
      },
      "source": [
        "data.isnull().sum()"
      ],
      "execution_count": 335,
      "outputs": [
        {
          "output_type": "execute_result",
          "data": {
            "text/plain": [
              "gender                      0\n",
              "NationalITy                 0\n",
              "PlaceofBirth                0\n",
              "StageID                     0\n",
              "GradeID                     0\n",
              "SectionID                   0\n",
              "Topic                       0\n",
              "Semester                    0\n",
              "Relation                    0\n",
              "raisedhands                 0\n",
              "VisITedResources            0\n",
              "AnnouncementsView           0\n",
              "Discussion                  0\n",
              "ParentAnsweringSurvey       0\n",
              "ParentschoolSatisfaction    0\n",
              "StudentAbsenceDays          0\n",
              "Class                       0\n",
              "dtype: int64"
            ]
          },
          "metadata": {
            "tags": []
          },
          "execution_count": 335
        }
      ]
    },
    {
      "cell_type": "code",
      "metadata": {
        "colab": {
          "base_uri": "https://localhost:8080/"
        },
        "id": "xw5MmBjwxl3d",
        "outputId": "dce20363-e72d-471b-ccf4-a7d0ecdd4da1"
      },
      "source": [
        "data[\"gender\"].unique()"
      ],
      "execution_count": 336,
      "outputs": [
        {
          "output_type": "execute_result",
          "data": {
            "text/plain": [
              "array(['M', 'F'], dtype=object)"
            ]
          },
          "metadata": {
            "tags": []
          },
          "execution_count": 336
        }
      ]
    },
    {
      "cell_type": "markdown",
      "metadata": {
        "id": "wsicei1XN2kt"
      },
      "source": [
        "There are more Male students as compared to female"
      ]
    },
    {
      "cell_type": "code",
      "metadata": {
        "colab": {
          "base_uri": "https://localhost:8080/",
          "height": 519
        },
        "id": "JQdU2uRsxl55",
        "outputId": "b5ad1259-ab9c-478a-f4c6-9c19b22aa875"
      },
      "source": [
        "sns.countplot(data[\"gender\"])"
      ],
      "execution_count": 337,
      "outputs": [
        {
          "output_type": "execute_result",
          "data": {
            "text/plain": [
              "<matplotlib.axes._subplots.AxesSubplot at 0x7effa519f790>"
            ]
          },
          "metadata": {
            "tags": []
          },
          "execution_count": 337
        },
        {
          "output_type": "display_data",
          "data": {
            "image/png": "[encoded data removed]",
            "text/plain": [
              "<Figure size 1080x576 with 1 Axes>"
            ]
          },
          "metadata": {
            "tags": []
          }
        }
      ]
    },
    {
      "cell_type": "markdown",
      "metadata": {
        "id": "HlVwt36IN9h2"
      },
      "source": [
        "From the graph we can see that KW and Jordan got the maximum population of students"
      ]
    },
    {
      "cell_type": "code",
      "metadata": {
        "colab": {
          "base_uri": "https://localhost:8080/",
          "height": 519
        },
        "id": "Lc0PPzwXxl8A",
        "outputId": "7370a508-d381-42a1-b298-5d37e4a2751f"
      },
      "source": [
        "sns.countplot(data[\"NationalITy\"])"
      ],
      "execution_count": 338,
      "outputs": [
        {
          "output_type": "execute_result",
          "data": {
            "text/plain": [
              "<matplotlib.axes._subplots.AxesSubplot at 0x7effa513c810>"
            ]
          },
          "metadata": {
            "tags": []
          },
          "execution_count": 338
        },
        {
          "output_type": "display_data",
          "data": {
            "image/png": "[encoded data removed]",
            "text/plain": [
              "<Figure size 1080x576 with 1 Axes>"
            ]
          },
          "metadata": {
            "tags": []
          }
        }
      ]
    },
    {
      "cell_type": "code",
      "metadata": {
        "colab": {
          "base_uri": "https://localhost:8080/",
          "height": 519
        },
        "id": "dX9UlygexmBY",
        "outputId": "09297010-8898-452b-c5be-4b6fd15e6b56"
      },
      "source": [
        "sns.countplot(data[\"PlaceofBirth\"])"
      ],
      "execution_count": 339,
      "outputs": [
        {
          "output_type": "execute_result",
          "data": {
            "text/plain": [
              "<matplotlib.axes._subplots.AxesSubplot at 0x7effa50c7d10>"
            ]
          },
          "metadata": {
            "tags": []
          },
          "execution_count": 339
        },
        {
          "output_type": "display_data",
          "data": {
            "image/png": "[encoded data removed]",
            "text/plain": [
              "<Figure size 1080x576 with 1 Axes>"
            ]
          },
          "metadata": {
            "tags": []
          }
        }
      ]
    },
    {
      "cell_type": "markdown",
      "metadata": {
        "id": "2doSXOSwOMEJ"
      },
      "source": [
        "We can see high school got less number of students"
      ]
    },
    {
      "cell_type": "code",
      "metadata": {
        "colab": {
          "base_uri": "https://localhost:8080/",
          "height": 519
        },
        "id": "wSCV1lhIzGFc",
        "outputId": "72aa75a2-48bb-4925-a3f5-07f1d20f70a0"
      },
      "source": [
        "sns.countplot(data[\"StageID\"])"
      ],
      "execution_count": 340,
      "outputs": [
        {
          "output_type": "execute_result",
          "data": {
            "text/plain": [
              "<matplotlib.axes._subplots.AxesSubplot at 0x7effa505aad0>"
            ]
          },
          "metadata": {
            "tags": []
          },
          "execution_count": 340
        },
        {
          "output_type": "display_data",
          "data": {
            "image/png": "[encoded data removed]",
            "text/plain": [
              "<Figure size 1080x576 with 1 Axes>"
            ]
          },
          "metadata": {
            "tags": []
          }
        }
      ]
    },
    {
      "cell_type": "markdown",
      "metadata": {
        "id": "1XOFj5yLOUXA"
      },
      "source": [
        "Section A got the maximum students and section C the least "
      ]
    },
    {
      "cell_type": "code",
      "metadata": {
        "colab": {
          "base_uri": "https://localhost:8080/",
          "height": 519
        },
        "id": "D19QhJ5Z3Caq",
        "outputId": "04b537eb-3201-46c3-a963-4475aefc4c59"
      },
      "source": [
        "sns.countplot(data[\"SectionID\"])"
      ],
      "execution_count": 341,
      "outputs": [
        {
          "output_type": "execute_result",
          "data": {
            "text/plain": [
              "<matplotlib.axes._subplots.AxesSubplot at 0x7effa5015650>"
            ]
          },
          "metadata": {
            "tags": []
          },
          "execution_count": 341
        },
        {
          "output_type": "display_data",
          "data": {
            "image/png": "[encoded data removed]",
            "text/plain": [
              "<Figure size 1080x576 with 1 Axes>"
            ]
          },
          "metadata": {
            "tags": []
          }
        }
      ]
    },
    {
      "cell_type": "markdown",
      "metadata": {
        "id": "8iuEIRFW9IBW"
      },
      "source": [
        ">There are many student who are falling in G-02 , G-07 and G-08 and less number of students as we move towards G-09 G-10 onwards"
      ]
    },
    {
      "cell_type": "code",
      "metadata": {
        "colab": {
          "base_uri": "https://localhost:8080/",
          "height": 519
        },
        "id": "LDuzY3gS76gK",
        "outputId": "dd208199-1a44-42c9-aa4d-78d4931bebd1"
      },
      "source": [
        "sns.stripplot(data=data,y=\"raisedhands\",x='GradeID',hue='gender',order=['G-02',\"G-04\",\"G-05\",\"G-07\",\"G-08\",\"G-09\",'G-10','G-11','G-12'])"
      ],
      "execution_count": 342,
      "outputs": [
        {
          "output_type": "execute_result",
          "data": {
            "text/plain": [
              "<matplotlib.axes._subplots.AxesSubplot at 0x7effa4f86d50>"
            ]
          },
          "metadata": {
            "tags": []
          },
          "execution_count": 342
        },
        {
          "output_type": "display_data",
          "data": {
            "image/png": "[encoded data removed]",
            "text/plain": [
              "<Figure size 1080x576 with 1 Axes>"
            ]
          },
          "metadata": {
            "tags": []
          }
        }
      ]
    },
    {
      "cell_type": "code",
      "metadata": {
        "colab": {
          "base_uri": "https://localhost:8080/",
          "height": 738
        },
        "id": "-q_AqpxRCCEW",
        "outputId": "b12c1693-b927-4a2e-cdaf-6a2f883bee02"
      },
      "source": [
        "sns.factorplot(x=\"Semester\",hue=\"GradeID\",data=data,kind='count',size = 12,aspect = 1.5,legend_out=True\n",
        "               ,hue_order=['G-02',\"G-04\",\"G-05\",'G-06',\"G-07\",\"G-08\",\"G-09\",'G-10','G-11','G-12'])"
      ],
      "execution_count": 343,
      "outputs": [
        {
          "output_type": "execute_result",
          "data": {
            "text/plain": [
              "<seaborn.axisgrid.FacetGrid at 0x7effa4f05b10>"
            ]
          },
          "metadata": {
            "tags": []
          },
          "execution_count": 343
        },
        {
          "output_type": "display_data",
          "data": {
            "image/png": "[encoded data removed]",
            "text/plain": [
              "<Figure size 1362.1x864 with 1 Axes>"
            ]
          },
          "metadata": {
            "tags": []
          }
        }
      ]
    },
    {
      "cell_type": "markdown",
      "metadata": {
        "id": "x19apHvgEr4U"
      },
      "source": [
        "\n",
        "From the Graph we can say that\n",
        "\n",
        "*   We can see that category lowerlevel has more grade G-02 as compared to any\n",
        "*   Middle level has more students concentrated at grade G-07,G-08 and high school has students more concentrated at grade G-11 and G-12\n",
        "*   We can say that students are getting less and less grade while they are moving to next class and the amount of students are also receding \n"
      ]
    },
    {
      "cell_type": "code",
      "metadata": {
        "colab": {
          "base_uri": "https://localhost:8080/",
          "height": 519
        },
        "id": "03ZIUY1YDeg2",
        "outputId": "cb4bd539-483a-460a-cae1-1c88409e2ce9"
      },
      "source": [
        "sns.countplot(data=data,x='StageID',hue='GradeID',hue_order=['G-02',\"G-04\",\"G-05\",'G-06',\"G-07\",\"G-08\",\"G-09\",'G-10','G-11','G-12'])"
      ],
      "execution_count": 344,
      "outputs": [
        {
          "output_type": "execute_result",
          "data": {
            "text/plain": [
              "<matplotlib.axes._subplots.AxesSubplot at 0x7effa4f8e050>"
            ]
          },
          "metadata": {
            "tags": []
          },
          "execution_count": 344
        },
        {
          "output_type": "display_data",
          "data": {
            "image/png": "[encoded data removed]",
            "text/plain": [
              "<Figure size 1080x576 with 1 Axes>"
            ]
          },
          "metadata": {
            "tags": []
          }
        }
      ]
    },
    {
      "cell_type": "markdown",
      "metadata": {
        "id": "dDBPo5goLKO8"
      },
      "source": [
        "From the graph we can see that\n",
        "\n",
        "*   Section A got the maximum students with grade G-08 \n",
        "*   Section B got the only maximum students with G-02 more than students from section A as strength of section B is low still more students are performing G-02\n",
        "* Section C has less population of students but it's students are performing equally with grade G-02 and G-08\n",
        "\n"
      ]
    },
    {
      "cell_type": "code",
      "metadata": {
        "colab": {
          "base_uri": "https://localhost:8080/",
          "height": 519
        },
        "id": "CcCInpAnK_oB",
        "outputId": "df625d86-5409-4225-e69e-2bc6a9b70bdc"
      },
      "source": [
        "sns.countplot(data=data,x='SectionID',hue='GradeID',hue_order=['G-02',\"G-04\",\"G-05\",'G-06',\"G-07\",\"G-08\",\"G-09\",'G-10','G-11','G-12'])"
      ],
      "execution_count": 345,
      "outputs": [
        {
          "output_type": "execute_result",
          "data": {
            "text/plain": [
              "<matplotlib.axes._subplots.AxesSubplot at 0x7effa4d35710>"
            ]
          },
          "metadata": {
            "tags": []
          },
          "execution_count": 345
        },
        {
          "output_type": "display_data",
          "data": {
            "image/png": "[encoded data removed]",
            "text/plain": [
              "<Figure size 1080x576 with 1 Axes>"
            ]
          },
          "metadata": {
            "tags": []
          }
        }
      ]
    },
    {
      "cell_type": "markdown",
      "metadata": {
        "id": "hMM_q12rHgqk"
      },
      "source": [
        "From the graph we can see \n",
        "*    There are no student of high school from Jordan\n",
        "*    Venzuela got only students who are in highschool \n",
        "*    There are more students from Lybia and iran in Lower level school\n",
        "*    We can see there is more possibility that mostly students are in middle school from all countries\n",
        "\n"
      ]
    },
    {
      "cell_type": "markdown",
      "metadata": {
        "id": "vwN1wupvIzCm"
      },
      "source": [
        ""
      ]
    },
    {
      "cell_type": "code",
      "metadata": {
        "colab": {
          "base_uri": "https://localhost:8080/",
          "height": 716
        },
        "id": "-X4i27sjGYyV",
        "outputId": "fb7caa16-39fd-408d-dffb-b3fac78cc8c3"
      },
      "source": [
        "sns.factorplot(x=\"NationalITy\",hue=\"StageID\",data=data,kind='count',size = 12,aspect = 1.5,legend_out=True)"
      ],
      "execution_count": 346,
      "outputs": [
        {
          "output_type": "execute_result",
          "data": {
            "text/plain": [
              "<seaborn.axisgrid.FacetGrid at 0x7effa4e732d0>"
            ]
          },
          "metadata": {
            "tags": []
          },
          "execution_count": 346
        },
        {
          "output_type": "display_data",
          "data": {
            "image/png": "[encoded data removed]",
            "text/plain": [
              "<Figure size 1408.97x864 with 1 Axes>"
            ]
          },
          "metadata": {
            "tags": []
          }
        }
      ]
    },
    {
      "cell_type": "markdown",
      "metadata": {
        "id": "XEjayoyfMr_B"
      },
      "source": [
        "From the graph we can see that\n",
        "\n",
        "*   KW parents are reporting equal votes for the satisfaction from the school\n",
        "*   Jordan parents are highly satisfied from school\n",
        "* Palestine , Iraq , Lybia parents are 100% satisfied with the school\n",
        "* Parents from saudia arabia and Tunis are not that much satisfied from the school\n",
        "\n"
      ]
    },
    {
      "cell_type": "code",
      "metadata": {
        "colab": {
          "base_uri": "https://localhost:8080/",
          "height": 697
        },
        "id": "hwzH2zItJksU",
        "outputId": "185ed06e-2f74-4eb0-e42b-0907dfea4f69"
      },
      "source": [
        "sns.factorplot(hue=\"ParentschoolSatisfaction\",x=\"NationalITy\",data=data,kind='count',size = 12,aspect = 1.5,legend_out=True)"
      ],
      "execution_count": 347,
      "outputs": [
        {
          "output_type": "execute_result",
          "data": {
            "text/plain": [
              "<seaborn.axisgrid.FacetGrid at 0x7effa4b6dd10>"
            ]
          },
          "metadata": {
            "tags": []
          },
          "execution_count": 347
        },
        {
          "output_type": "display_data",
          "data": {
            "image/png": "[encoded data removed]",
            "text/plain": [
              "<Figure size 1452.55x864 with 1 Axes>"
            ]
          },
          "metadata": {
            "tags": []
          }
        }
      ]
    },
    {
      "cell_type": "markdown",
      "metadata": {
        "id": "za25ZwDjRq_e"
      },
      "source": [
        "> Data Preprocessing"
      ]
    },
    {
      "cell_type": "code",
      "metadata": {
        "colab": {
          "base_uri": "https://localhost:8080/"
        },
        "id": "5mlmVff53Cdk",
        "outputId": "4f48e7fa-b1d2-4cf3-9e4b-687ebfb99794"
      },
      "source": [
        "data.info()"
      ],
      "execution_count": 348,
      "outputs": [
        {
          "output_type": "stream",
          "text": [
            "<class 'pandas.core.frame.DataFrame'>\n",
            "RangeIndex: 480 entries, 0 to 479\n",
            "Data columns (total 17 columns):\n",
            " #   Column                    Non-Null Count  Dtype \n",
            "---  ------                    --------------  ----- \n",
            " 0   gender                    480 non-null    object\n",
            " 1   NationalITy               480 non-null    object\n",
            " 2   PlaceofBirth              480 non-null    object\n",
            " 3   StageID                   480 non-null    object\n",
            " 4   GradeID                   480 non-null    object\n",
            " 5   SectionID                 480 non-null    object\n",
            " 6   Topic                     480 non-null    object\n",
            " 7   Semester                  480 non-null    object\n",
            " 8   Relation                  480 non-null    object\n",
            " 9   raisedhands               480 non-null    int64 \n",
            " 10  VisITedResources          480 non-null    int64 \n",
            " 11  AnnouncementsView         480 non-null    int64 \n",
            " 12  Discussion                480 non-null    int64 \n",
            " 13  ParentAnsweringSurvey     480 non-null    object\n",
            " 14  ParentschoolSatisfaction  480 non-null    object\n",
            " 15  StudentAbsenceDays        480 non-null    object\n",
            " 16  Class                     480 non-null    object\n",
            "dtypes: int64(4), object(13)\n",
            "memory usage: 63.9+ KB\n"
          ],
          "name": "stdout"
        }
      ]
    },
    {
      "cell_type": "code",
      "metadata": {
        "id": "uHgeZKlo3Cgh"
      },
      "source": [
        "data[\"gender\"]=data[\"gender\"].map({\"M\":0,\"F\":1})"
      ],
      "execution_count": 349,
      "outputs": []
    },
    {
      "cell_type": "code",
      "metadata": {
        "colab": {
          "base_uri": "https://localhost:8080/",
          "height": 215
        },
        "id": "FHDbGpXy3CmO",
        "outputId": "a3c83a4b-1f5a-438f-c226-08425e0921d8"
      },
      "source": [
        "data.head()"
      ],
      "execution_count": 350,
      "outputs": [
        {
          "output_type": "execute_result",
          "data": {
            "text/html": [
              "<div>\n",
              "<style scoped>\n",
              "    .dataframe tbody tr th:only-of-type {\n",
              "        vertical-align: middle;\n",
              "    }\n",
              "\n",
              "    .dataframe tbody tr th {\n",
              "        vertical-align: top;\n",
              "    }\n",
              "\n",
              "    .dataframe thead th {\n",
              "        text-align: right;\n",
              "    }\n",
              "</style>\n",
              "<table border=\"1\" class=\"dataframe\">\n",
              "  <thead>\n",
              "    <tr style=\"text-align: right;\">\n",
              "      <th></th>\n",
              "      <th>gender</th>\n",
              "      <th>NationalITy</th>\n",
              "      <th>PlaceofBirth</th>\n",
              "      <th>StageID</th>\n",
              "      <th>GradeID</th>\n",
              "      <th>SectionID</th>\n",
              "      <th>Topic</th>\n",
              "      <th>Semester</th>\n",
              "      <th>Relation</th>\n",
              "      <th>raisedhands</th>\n",
              "      <th>VisITedResources</th>\n",
              "      <th>AnnouncementsView</th>\n",
              "      <th>Discussion</th>\n",
              "      <th>ParentAnsweringSurvey</th>\n",
              "      <th>ParentschoolSatisfaction</th>\n",
              "      <th>StudentAbsenceDays</th>\n",
              "      <th>Class</th>\n",
              "    </tr>\n",
              "  </thead>\n",
              "  <tbody>\n",
              "    <tr>\n",
              "      <th>0</th>\n",
              "      <td>0</td>\n",
              "      <td>KW</td>\n",
              "      <td>KuwaIT</td>\n",
              "      <td>lowerlevel</td>\n",
              "      <td>G-04</td>\n",
              "      <td>A</td>\n",
              "      <td>IT</td>\n",
              "      <td>F</td>\n",
              "      <td>Father</td>\n",
              "      <td>15</td>\n",
              "      <td>16</td>\n",
              "      <td>2</td>\n",
              "      <td>20</td>\n",
              "      <td>Yes</td>\n",
              "      <td>Good</td>\n",
              "      <td>Under-7</td>\n",
              "      <td>M</td>\n",
              "    </tr>\n",
              "    <tr>\n",
              "      <th>1</th>\n",
              "      <td>0</td>\n",
              "      <td>KW</td>\n",
              "      <td>KuwaIT</td>\n",
              "      <td>lowerlevel</td>\n",
              "      <td>G-04</td>\n",
              "      <td>A</td>\n",
              "      <td>IT</td>\n",
              "      <td>F</td>\n",
              "      <td>Father</td>\n",
              "      <td>20</td>\n",
              "      <td>20</td>\n",
              "      <td>3</td>\n",
              "      <td>25</td>\n",
              "      <td>Yes</td>\n",
              "      <td>Good</td>\n",
              "      <td>Under-7</td>\n",
              "      <td>M</td>\n",
              "    </tr>\n",
              "    <tr>\n",
              "      <th>2</th>\n",
              "      <td>0</td>\n",
              "      <td>KW</td>\n",
              "      <td>KuwaIT</td>\n",
              "      <td>lowerlevel</td>\n",
              "      <td>G-04</td>\n",
              "      <td>A</td>\n",
              "      <td>IT</td>\n",
              "      <td>F</td>\n",
              "      <td>Father</td>\n",
              "      <td>10</td>\n",
              "      <td>7</td>\n",
              "      <td>0</td>\n",
              "      <td>30</td>\n",
              "      <td>No</td>\n",
              "      <td>Bad</td>\n",
              "      <td>Above-7</td>\n",
              "      <td>L</td>\n",
              "    </tr>\n",
              "    <tr>\n",
              "      <th>3</th>\n",
              "      <td>0</td>\n",
              "      <td>KW</td>\n",
              "      <td>KuwaIT</td>\n",
              "      <td>lowerlevel</td>\n",
              "      <td>G-04</td>\n",
              "      <td>A</td>\n",
              "      <td>IT</td>\n",
              "      <td>F</td>\n",
              "      <td>Father</td>\n",
              "      <td>30</td>\n",
              "      <td>25</td>\n",
              "      <td>5</td>\n",
              "      <td>35</td>\n",
              "      <td>No</td>\n",
              "      <td>Bad</td>\n",
              "      <td>Above-7</td>\n",
              "      <td>L</td>\n",
              "    </tr>\n",
              "    <tr>\n",
              "      <th>4</th>\n",
              "      <td>0</td>\n",
              "      <td>KW</td>\n",
              "      <td>KuwaIT</td>\n",
              "      <td>lowerlevel</td>\n",
              "      <td>G-04</td>\n",
              "      <td>A</td>\n",
              "      <td>IT</td>\n",
              "      <td>F</td>\n",
              "      <td>Father</td>\n",
              "      <td>40</td>\n",
              "      <td>50</td>\n",
              "      <td>12</td>\n",
              "      <td>50</td>\n",
              "      <td>No</td>\n",
              "      <td>Bad</td>\n",
              "      <td>Above-7</td>\n",
              "      <td>M</td>\n",
              "    </tr>\n",
              "  </tbody>\n",
              "</table>\n",
              "</div>"
            ],
            "text/plain": [
              "   gender NationalITy  ... StudentAbsenceDays Class\n",
              "0       0          KW  ...            Under-7     M\n",
              "1       0          KW  ...            Under-7     M\n",
              "2       0          KW  ...            Above-7     L\n",
              "3       0          KW  ...            Above-7     L\n",
              "4       0          KW  ...            Above-7     M\n",
              "\n",
              "[5 rows x 17 columns]"
            ]
          },
          "metadata": {
            "tags": []
          },
          "execution_count": 350
        }
      ]
    },
    {
      "cell_type": "code",
      "metadata": {
        "id": "6ELY3d6M3Cot"
      },
      "source": [
        "data[\"Relation\"]=data[\"Relation\"].map({\"Father\":0,\"Mum\":1})"
      ],
      "execution_count": 351,
      "outputs": []
    },
    {
      "cell_type": "code",
      "metadata": {
        "id": "t0Wv18uh3Crr"
      },
      "source": [
        "datacopy=data"
      ],
      "execution_count": 352,
      "outputs": []
    },
    {
      "cell_type": "code",
      "metadata": {
        "colab": {
          "base_uri": "https://localhost:8080/",
          "height": 215
        },
        "id": "lSEoyU_a3Ct-",
        "outputId": "4e7a217c-b9ec-4d5f-eb5a-5bec5a9268ba"
      },
      "source": [
        "datacopy.head()"
      ],
      "execution_count": 353,
      "outputs": [
        {
          "output_type": "execute_result",
          "data": {
            "text/html": [
              "<div>\n",
              "<style scoped>\n",
              "    .dataframe tbody tr th:only-of-type {\n",
              "        vertical-align: middle;\n",
              "    }\n",
              "\n",
              "    .dataframe tbody tr th {\n",
              "        vertical-align: top;\n",
              "    }\n",
              "\n",
              "    .dataframe thead th {\n",
              "        text-align: right;\n",
              "    }\n",
              "</style>\n",
              "<table border=\"1\" class=\"dataframe\">\n",
              "  <thead>\n",
              "    <tr style=\"text-align: right;\">\n",
              "      <th></th>\n",
              "      <th>gender</th>\n",
              "      <th>NationalITy</th>\n",
              "      <th>PlaceofBirth</th>\n",
              "      <th>StageID</th>\n",
              "      <th>GradeID</th>\n",
              "      <th>SectionID</th>\n",
              "      <th>Topic</th>\n",
              "      <th>Semester</th>\n",
              "      <th>Relation</th>\n",
              "      <th>raisedhands</th>\n",
              "      <th>VisITedResources</th>\n",
              "      <th>AnnouncementsView</th>\n",
              "      <th>Discussion</th>\n",
              "      <th>ParentAnsweringSurvey</th>\n",
              "      <th>ParentschoolSatisfaction</th>\n",
              "      <th>StudentAbsenceDays</th>\n",
              "      <th>Class</th>\n",
              "    </tr>\n",
              "  </thead>\n",
              "  <tbody>\n",
              "    <tr>\n",
              "      <th>0</th>\n",
              "      <td>0</td>\n",
              "      <td>KW</td>\n",
              "      <td>KuwaIT</td>\n",
              "      <td>lowerlevel</td>\n",
              "      <td>G-04</td>\n",
              "      <td>A</td>\n",
              "      <td>IT</td>\n",
              "      <td>F</td>\n",
              "      <td>0</td>\n",
              "      <td>15</td>\n",
              "      <td>16</td>\n",
              "      <td>2</td>\n",
              "      <td>20</td>\n",
              "      <td>Yes</td>\n",
              "      <td>Good</td>\n",
              "      <td>Under-7</td>\n",
              "      <td>M</td>\n",
              "    </tr>\n",
              "    <tr>\n",
              "      <th>1</th>\n",
              "      <td>0</td>\n",
              "      <td>KW</td>\n",
              "      <td>KuwaIT</td>\n",
              "      <td>lowerlevel</td>\n",
              "      <td>G-04</td>\n",
              "      <td>A</td>\n",
              "      <td>IT</td>\n",
              "      <td>F</td>\n",
              "      <td>0</td>\n",
              "      <td>20</td>\n",
              "      <td>20</td>\n",
              "      <td>3</td>\n",
              "      <td>25</td>\n",
              "      <td>Yes</td>\n",
              "      <td>Good</td>\n",
              "      <td>Under-7</td>\n",
              "      <td>M</td>\n",
              "    </tr>\n",
              "    <tr>\n",
              "      <th>2</th>\n",
              "      <td>0</td>\n",
              "      <td>KW</td>\n",
              "      <td>KuwaIT</td>\n",
              "      <td>lowerlevel</td>\n",
              "      <td>G-04</td>\n",
              "      <td>A</td>\n",
              "      <td>IT</td>\n",
              "      <td>F</td>\n",
              "      <td>0</td>\n",
              "      <td>10</td>\n",
              "      <td>7</td>\n",
              "      <td>0</td>\n",
              "      <td>30</td>\n",
              "      <td>No</td>\n",
              "      <td>Bad</td>\n",
              "      <td>Above-7</td>\n",
              "      <td>L</td>\n",
              "    </tr>\n",
              "    <tr>\n",
              "      <th>3</th>\n",
              "      <td>0</td>\n",
              "      <td>KW</td>\n",
              "      <td>KuwaIT</td>\n",
              "      <td>lowerlevel</td>\n",
              "      <td>G-04</td>\n",
              "      <td>A</td>\n",
              "      <td>IT</td>\n",
              "      <td>F</td>\n",
              "      <td>0</td>\n",
              "      <td>30</td>\n",
              "      <td>25</td>\n",
              "      <td>5</td>\n",
              "      <td>35</td>\n",
              "      <td>No</td>\n",
              "      <td>Bad</td>\n",
              "      <td>Above-7</td>\n",
              "      <td>L</td>\n",
              "    </tr>\n",
              "    <tr>\n",
              "      <th>4</th>\n",
              "      <td>0</td>\n",
              "      <td>KW</td>\n",
              "      <td>KuwaIT</td>\n",
              "      <td>lowerlevel</td>\n",
              "      <td>G-04</td>\n",
              "      <td>A</td>\n",
              "      <td>IT</td>\n",
              "      <td>F</td>\n",
              "      <td>0</td>\n",
              "      <td>40</td>\n",
              "      <td>50</td>\n",
              "      <td>12</td>\n",
              "      <td>50</td>\n",
              "      <td>No</td>\n",
              "      <td>Bad</td>\n",
              "      <td>Above-7</td>\n",
              "      <td>M</td>\n",
              "    </tr>\n",
              "  </tbody>\n",
              "</table>\n",
              "</div>"
            ],
            "text/plain": [
              "   gender NationalITy  ... StudentAbsenceDays Class\n",
              "0       0          KW  ...            Under-7     M\n",
              "1       0          KW  ...            Under-7     M\n",
              "2       0          KW  ...            Above-7     L\n",
              "3       0          KW  ...            Above-7     L\n",
              "4       0          KW  ...            Above-7     M\n",
              "\n",
              "[5 rows x 17 columns]"
            ]
          },
          "metadata": {
            "tags": []
          },
          "execution_count": 353
        }
      ]
    },
    {
      "cell_type": "code",
      "metadata": {
        "id": "f845usHdRwQy"
      },
      "source": [
        "dummy=pd.get_dummies(datacopy[\"StageID\"])"
      ],
      "execution_count": 354,
      "outputs": []
    },
    {
      "cell_type": "code",
      "metadata": {
        "id": "-TprilbeV__o"
      },
      "source": [
        "datacopy=pd.concat([datacopy,dummy],axis=1)"
      ],
      "execution_count": 355,
      "outputs": []
    },
    {
      "cell_type": "code",
      "metadata": {
        "id": "YKY_rKIaWADE"
      },
      "source": [
        "datacopy=datacopy.drop(\"StageID\",axis=1)"
      ],
      "execution_count": 356,
      "outputs": []
    },
    {
      "cell_type": "code",
      "metadata": {
        "colab": {
          "base_uri": "https://localhost:8080/"
        },
        "id": "ceMBC2yPZOsC",
        "outputId": "07a24ff1-3c49-4310-abbf-37a6c00e3bef"
      },
      "source": [
        "datacopy.info()"
      ],
      "execution_count": 357,
      "outputs": [
        {
          "output_type": "stream",
          "text": [
            "<class 'pandas.core.frame.DataFrame'>\n",
            "RangeIndex: 480 entries, 0 to 479\n",
            "Data columns (total 19 columns):\n",
            " #   Column                    Non-Null Count  Dtype \n",
            "---  ------                    --------------  ----- \n",
            " 0   gender                    480 non-null    int64 \n",
            " 1   NationalITy               480 non-null    object\n",
            " 2   PlaceofBirth              480 non-null    object\n",
            " 3   GradeID                   480 non-null    object\n",
            " 4   SectionID                 480 non-null    object\n",
            " 5   Topic                     480 non-null    object\n",
            " 6   Semester                  480 non-null    object\n",
            " 7   Relation                  480 non-null    int64 \n",
            " 8   raisedhands               480 non-null    int64 \n",
            " 9   VisITedResources          480 non-null    int64 \n",
            " 10  AnnouncementsView         480 non-null    int64 \n",
            " 11  Discussion                480 non-null    int64 \n",
            " 12  ParentAnsweringSurvey     480 non-null    object\n",
            " 13  ParentschoolSatisfaction  480 non-null    object\n",
            " 14  StudentAbsenceDays        480 non-null    object\n",
            " 15  Class                     480 non-null    object\n",
            " 16  HighSchool                480 non-null    uint8 \n",
            " 17  MiddleSchool              480 non-null    uint8 \n",
            " 18  lowerlevel                480 non-null    uint8 \n",
            "dtypes: int64(6), object(10), uint8(3)\n",
            "memory usage: 61.5+ KB\n"
          ],
          "name": "stdout"
        }
      ]
    },
    {
      "cell_type": "code",
      "metadata": {
        "id": "ig3etLHPZkt4"
      },
      "source": [
        "datacopy[\"ParentAnsweringSurvey\"]=datacopy[\"ParentAnsweringSurvey\"].replace(\"Yes\",1)\n",
        "datacopy[\"ParentAnsweringSurvey\"]=datacopy[\"ParentAnsweringSurvey\"].replace(\"No\",0)"
      ],
      "execution_count": 358,
      "outputs": []
    },
    {
      "cell_type": "code",
      "metadata": {
        "colab": {
          "base_uri": "https://localhost:8080/",
          "height": 215
        },
        "id": "VGFhrtGoaMIB",
        "outputId": "6b79fe02-2ea6-43d2-aa8c-1dde65262c39"
      },
      "source": [
        "datacopy.head()"
      ],
      "execution_count": 359,
      "outputs": [
        {
          "output_type": "execute_result",
          "data": {
            "text/html": [
              "<div>\n",
              "<style scoped>\n",
              "    .dataframe tbody tr th:only-of-type {\n",
              "        vertical-align: middle;\n",
              "    }\n",
              "\n",
              "    .dataframe tbody tr th {\n",
              "        vertical-align: top;\n",
              "    }\n",
              "\n",
              "    .dataframe thead th {\n",
              "        text-align: right;\n",
              "    }\n",
              "</style>\n",
              "<table border=\"1\" class=\"dataframe\">\n",
              "  <thead>\n",
              "    <tr style=\"text-align: right;\">\n",
              "      <th></th>\n",
              "      <th>gender</th>\n",
              "      <th>NationalITy</th>\n",
              "      <th>PlaceofBirth</th>\n",
              "      <th>GradeID</th>\n",
              "      <th>SectionID</th>\n",
              "      <th>Topic</th>\n",
              "      <th>Semester</th>\n",
              "      <th>Relation</th>\n",
              "      <th>raisedhands</th>\n",
              "      <th>VisITedResources</th>\n",
              "      <th>AnnouncementsView</th>\n",
              "      <th>Discussion</th>\n",
              "      <th>ParentAnsweringSurvey</th>\n",
              "      <th>ParentschoolSatisfaction</th>\n",
              "      <th>StudentAbsenceDays</th>\n",
              "      <th>Class</th>\n",
              "      <th>HighSchool</th>\n",
              "      <th>MiddleSchool</th>\n",
              "      <th>lowerlevel</th>\n",
              "    </tr>\n",
              "  </thead>\n",
              "  <tbody>\n",
              "    <tr>\n",
              "      <th>0</th>\n",
              "      <td>0</td>\n",
              "      <td>KW</td>\n",
              "      <td>KuwaIT</td>\n",
              "      <td>G-04</td>\n",
              "      <td>A</td>\n",
              "      <td>IT</td>\n",
              "      <td>F</td>\n",
              "      <td>0</td>\n",
              "      <td>15</td>\n",
              "      <td>16</td>\n",
              "      <td>2</td>\n",
              "      <td>20</td>\n",
              "      <td>1</td>\n",
              "      <td>Good</td>\n",
              "      <td>Under-7</td>\n",
              "      <td>M</td>\n",
              "      <td>0</td>\n",
              "      <td>0</td>\n",
              "      <td>1</td>\n",
              "    </tr>\n",
              "    <tr>\n",
              "      <th>1</th>\n",
              "      <td>0</td>\n",
              "      <td>KW</td>\n",
              "      <td>KuwaIT</td>\n",
              "      <td>G-04</td>\n",
              "      <td>A</td>\n",
              "      <td>IT</td>\n",
              "      <td>F</td>\n",
              "      <td>0</td>\n",
              "      <td>20</td>\n",
              "      <td>20</td>\n",
              "      <td>3</td>\n",
              "      <td>25</td>\n",
              "      <td>1</td>\n",
              "      <td>Good</td>\n",
              "      <td>Under-7</td>\n",
              "      <td>M</td>\n",
              "      <td>0</td>\n",
              "      <td>0</td>\n",
              "      <td>1</td>\n",
              "    </tr>\n",
              "    <tr>\n",
              "      <th>2</th>\n",
              "      <td>0</td>\n",
              "      <td>KW</td>\n",
              "      <td>KuwaIT</td>\n",
              "      <td>G-04</td>\n",
              "      <td>A</td>\n",
              "      <td>IT</td>\n",
              "      <td>F</td>\n",
              "      <td>0</td>\n",
              "      <td>10</td>\n",
              "      <td>7</td>\n",
              "      <td>0</td>\n",
              "      <td>30</td>\n",
              "      <td>0</td>\n",
              "      <td>Bad</td>\n",
              "      <td>Above-7</td>\n",
              "      <td>L</td>\n",
              "      <td>0</td>\n",
              "      <td>0</td>\n",
              "      <td>1</td>\n",
              "    </tr>\n",
              "    <tr>\n",
              "      <th>3</th>\n",
              "      <td>0</td>\n",
              "      <td>KW</td>\n",
              "      <td>KuwaIT</td>\n",
              "      <td>G-04</td>\n",
              "      <td>A</td>\n",
              "      <td>IT</td>\n",
              "      <td>F</td>\n",
              "      <td>0</td>\n",
              "      <td>30</td>\n",
              "      <td>25</td>\n",
              "      <td>5</td>\n",
              "      <td>35</td>\n",
              "      <td>0</td>\n",
              "      <td>Bad</td>\n",
              "      <td>Above-7</td>\n",
              "      <td>L</td>\n",
              "      <td>0</td>\n",
              "      <td>0</td>\n",
              "      <td>1</td>\n",
              "    </tr>\n",
              "    <tr>\n",
              "      <th>4</th>\n",
              "      <td>0</td>\n",
              "      <td>KW</td>\n",
              "      <td>KuwaIT</td>\n",
              "      <td>G-04</td>\n",
              "      <td>A</td>\n",
              "      <td>IT</td>\n",
              "      <td>F</td>\n",
              "      <td>0</td>\n",
              "      <td>40</td>\n",
              "      <td>50</td>\n",
              "      <td>12</td>\n",
              "      <td>50</td>\n",
              "      <td>0</td>\n",
              "      <td>Bad</td>\n",
              "      <td>Above-7</td>\n",
              "      <td>M</td>\n",
              "      <td>0</td>\n",
              "      <td>0</td>\n",
              "      <td>1</td>\n",
              "    </tr>\n",
              "  </tbody>\n",
              "</table>\n",
              "</div>"
            ],
            "text/plain": [
              "   gender NationalITy PlaceofBirth  ... HighSchool MiddleSchool lowerlevel\n",
              "0       0          KW       KuwaIT  ...          0            0          1\n",
              "1       0          KW       KuwaIT  ...          0            0          1\n",
              "2       0          KW       KuwaIT  ...          0            0          1\n",
              "3       0          KW       KuwaIT  ...          0            0          1\n",
              "4       0          KW       KuwaIT  ...          0            0          1\n",
              "\n",
              "[5 rows x 19 columns]"
            ]
          },
          "metadata": {
            "tags": []
          },
          "execution_count": 359
        }
      ]
    },
    {
      "cell_type": "code",
      "metadata": {
        "colab": {
          "base_uri": "https://localhost:8080/"
        },
        "id": "_dVhGGlDikXp",
        "outputId": "bf6c261d-3c4b-4672-9561-a6f02f62267f"
      },
      "source": [
        "datacopy.info()"
      ],
      "execution_count": 360,
      "outputs": [
        {
          "output_type": "stream",
          "text": [
            "<class 'pandas.core.frame.DataFrame'>\n",
            "RangeIndex: 480 entries, 0 to 479\n",
            "Data columns (total 19 columns):\n",
            " #   Column                    Non-Null Count  Dtype \n",
            "---  ------                    --------------  ----- \n",
            " 0   gender                    480 non-null    int64 \n",
            " 1   NationalITy               480 non-null    object\n",
            " 2   PlaceofBirth              480 non-null    object\n",
            " 3   GradeID                   480 non-null    object\n",
            " 4   SectionID                 480 non-null    object\n",
            " 5   Topic                     480 non-null    object\n",
            " 6   Semester                  480 non-null    object\n",
            " 7   Relation                  480 non-null    int64 \n",
            " 8   raisedhands               480 non-null    int64 \n",
            " 9   VisITedResources          480 non-null    int64 \n",
            " 10  AnnouncementsView         480 non-null    int64 \n",
            " 11  Discussion                480 non-null    int64 \n",
            " 12  ParentAnsweringSurvey     480 non-null    int64 \n",
            " 13  ParentschoolSatisfaction  480 non-null    object\n",
            " 14  StudentAbsenceDays        480 non-null    object\n",
            " 15  Class                     480 non-null    object\n",
            " 16  HighSchool                480 non-null    uint8 \n",
            " 17  MiddleSchool              480 non-null    uint8 \n",
            " 18  lowerlevel                480 non-null    uint8 \n",
            "dtypes: int64(7), object(9), uint8(3)\n",
            "memory usage: 61.5+ KB\n"
          ],
          "name": "stdout"
        }
      ]
    },
    {
      "cell_type": "code",
      "metadata": {
        "colab": {
          "base_uri": "https://localhost:8080/"
        },
        "id": "R486lUQoai0J",
        "outputId": "03ee438f-efca-478a-f952-c7f7d3a9b928"
      },
      "source": [
        "datacopy[\"ParentschoolSatisfaction\"].unique()\n",
        "datacopy[\"ParentschoolSatisfaction\"]=datacopy[\"ParentschoolSatisfaction\"].replace(\"Good\",1)\n",
        "datacopy[\"ParentschoolSatisfaction\"]=datacopy[\"ParentschoolSatisfaction\"].replace(\"Bad\",0)\n",
        "datacopy[\"ParentschoolSatisfaction\"].unique()"
      ],
      "execution_count": 361,
      "outputs": [
        {
          "output_type": "execute_result",
          "data": {
            "text/plain": [
              "array([1, 0])"
            ]
          },
          "metadata": {
            "tags": []
          },
          "execution_count": 361
        }
      ]
    },
    {
      "cell_type": "code",
      "metadata": {
        "id": "vpaNen1Ra5kD"
      },
      "source": [
        "datacopy[\"StudentAbsenceDays\"].unique()\n",
        "datacopy[\"StudentAbsenceDays\"]=datacopy[\"StudentAbsenceDays\"].replace(\"Under-7\",0)\n",
        "datacopy[\"StudentAbsenceDays\"]=datacopy[\"StudentAbsenceDays\"].replace(\"Above-7\",1)"
      ],
      "execution_count": 362,
      "outputs": []
    },
    {
      "cell_type": "code",
      "metadata": {
        "colab": {
          "base_uri": "https://localhost:8080/"
        },
        "id": "Csx7SQq7ipym",
        "outputId": "25bb3267-3add-4737-86b7-b96e040790ad"
      },
      "source": [
        "datacopy[\"Class\"].unique()"
      ],
      "execution_count": 363,
      "outputs": [
        {
          "output_type": "execute_result",
          "data": {
            "text/plain": [
              "array(['M', 'L', 'H'], dtype=object)"
            ]
          },
          "metadata": {
            "tags": []
          },
          "execution_count": 363
        }
      ]
    },
    {
      "cell_type": "code",
      "metadata": {
        "colab": {
          "base_uri": "https://localhost:8080/"
        },
        "id": "8YPrQIzhi0ln",
        "outputId": "f75fad8c-967f-4095-eafc-e63e6c5ca109"
      },
      "source": [
        "datacopy[\"Class\"]=datacopy[\"Class\"].replace(\"M\",0)\n",
        "datacopy[\"Class\"]=datacopy[\"Class\"].replace(\"L\",1)\n",
        "datacopy[\"Class\"]=datacopy[\"Class\"].replace(\"H\",2)\n",
        "datacopy[\"Class\"].unique()"
      ],
      "execution_count": 364,
      "outputs": [
        {
          "output_type": "execute_result",
          "data": {
            "text/plain": [
              "array([0, 1, 2])"
            ]
          },
          "metadata": {
            "tags": []
          },
          "execution_count": 364
        }
      ]
    },
    {
      "cell_type": "code",
      "metadata": {
        "colab": {
          "base_uri": "https://localhost:8080/"
        },
        "id": "mLYzA24lj3pF",
        "outputId": "12731d31-ad3b-456e-8639-b899da06cfcc"
      },
      "source": [
        "datacopy[\"SectionID\"].unique()"
      ],
      "execution_count": 365,
      "outputs": [
        {
          "output_type": "execute_result",
          "data": {
            "text/plain": [
              "array(['A', 'B', 'C'], dtype=object)"
            ]
          },
          "metadata": {
            "tags": []
          },
          "execution_count": 365
        }
      ]
    },
    {
      "cell_type": "code",
      "metadata": {
        "id": "rAuPWASwlvqo"
      },
      "source": [
        "datacopy[\"Semester\"]=datacopy[\"Semester\"].replace(\"F\",0)\n",
        "datacopy[\"Semester\"]=datacopy[\"Semester\"].replace(\"S\",1)"
      ],
      "execution_count": 366,
      "outputs": []
    },
    {
      "cell_type": "code",
      "metadata": {
        "id": "e7zE95WIlvtm"
      },
      "source": [
        "datacopy[\"SectionID\"]=datacopy[\"SectionID\"].map({\"A\":0,\"B\":1,\"C\":2})"
      ],
      "execution_count": 367,
      "outputs": []
    },
    {
      "cell_type": "code",
      "metadata": {
        "id": "nB4CnCA7lvwc"
      },
      "source": [
        "datacopy=datacopy.drop('Class',axis=1)"
      ],
      "execution_count": 368,
      "outputs": []
    },
    {
      "cell_type": "code",
      "metadata": {
        "id": "jZ0oBoU4xQ-v"
      },
      "source": [
        "data=datacopy"
      ],
      "execution_count": 369,
      "outputs": []
    },
    {
      "cell_type": "code",
      "metadata": {
        "colab": {
          "base_uri": "https://localhost:8080/"
        },
        "id": "XcFzMQAxr-21",
        "outputId": "cabd6824-847e-4bc3-ae7e-434a14ace777"
      },
      "source": [
        "pip install category_encoders"
      ],
      "execution_count": 370,
      "outputs": [
        {
          "output_type": "stream",
          "text": [
            "Requirement already satisfied: category_encoders in /usr/local/lib/python3.7/dist-packages (2.2.2)\n",
            "Requirement already satisfied: scikit-learn>=0.20.0 in /usr/local/lib/python3.7/dist-packages (from category_encoders) (0.22.2.post1)\n",
            "Requirement already satisfied: numpy>=1.14.0 in /usr/local/lib/python3.7/dist-packages (from category_encoders) (1.19.5)\n",
            "Requirement already satisfied: statsmodels>=0.9.0 in /usr/local/lib/python3.7/dist-packages (from category_encoders) (0.10.2)\n",
            "Requirement already satisfied: scipy>=1.0.0 in /usr/local/lib/python3.7/dist-packages (from category_encoders) (1.4.1)\n",
            "Requirement already satisfied: pandas>=0.21.1 in /usr/local/lib/python3.7/dist-packages (from category_encoders) (1.1.5)\n",
            "Requirement already satisfied: patsy>=0.5.1 in /usr/local/lib/python3.7/dist-packages (from category_encoders) (0.5.1)\n",
            "Requirement already satisfied: joblib>=0.11 in /usr/local/lib/python3.7/dist-packages (from scikit-learn>=0.20.0->category_encoders) (1.0.1)\n",
            "Requirement already satisfied: pytz>=2017.2 in /usr/local/lib/python3.7/dist-packages (from pandas>=0.21.1->category_encoders) (2018.9)\n",
            "Requirement already satisfied: python-dateutil>=2.7.3 in /usr/local/lib/python3.7/dist-packages (from pandas>=0.21.1->category_encoders) (2.8.1)\n",
            "Requirement already satisfied: six in /usr/local/lib/python3.7/dist-packages (from patsy>=0.5.1->category_encoders) (1.15.0)\n"
          ],
          "name": "stdout"
        }
      ]
    },
    {
      "cell_type": "code",
      "metadata": {
        "colab": {
          "base_uri": "https://localhost:8080/"
        },
        "id": "DBmezeWWlvzR",
        "outputId": "34cd2b43-0b0e-4801-eaf4-f2b38492e0c5"
      },
      "source": [
        "import category_encoders as ce\n",
        "de=datacopy[\"NationalITy\"]\n",
        "encoder= ce.BinaryEncoder(cols=['NationalITy']).fit_transform(de)\n",
        "len(datacopy[\"NationalITy\"].unique())\n"
      ],
      "execution_count": 371,
      "outputs": [
        {
          "output_type": "execute_result",
          "data": {
            "text/plain": [
              "14"
            ]
          },
          "metadata": {
            "tags": []
          },
          "execution_count": 371
        }
      ]
    },
    {
      "cell_type": "code",
      "metadata": {
        "id": "0I2xGj7WOObF"
      },
      "source": [
        "datacopy=data"
      ],
      "execution_count": 372,
      "outputs": []
    },
    {
      "cell_type": "code",
      "metadata": {
        "id": "HZ0WrZ3kwJCA"
      },
      "source": [
        "datacopy=pd.concat([encoder,datacopy],axis=1)"
      ],
      "execution_count": 373,
      "outputs": []
    },
    {
      "cell_type": "code",
      "metadata": {
        "colab": {
          "base_uri": "https://localhost:8080/"
        },
        "id": "7Yt941zEvvuN",
        "outputId": "38257171-8d05-4fca-d0ea-54e155e32ee6"
      },
      "source": [
        "from collections import Counter\n",
        "Counter(datacopy)"
      ],
      "execution_count": 374,
      "outputs": [
        {
          "output_type": "execute_result",
          "data": {
            "text/plain": [
              "Counter({'AnnouncementsView': 1,\n",
              "         'Discussion': 1,\n",
              "         'GradeID': 1,\n",
              "         'HighSchool': 1,\n",
              "         'MiddleSchool': 1,\n",
              "         'NationalITy': 1,\n",
              "         'NationalITy_0': 1,\n",
              "         'NationalITy_1': 1,\n",
              "         'NationalITy_2': 1,\n",
              "         'NationalITy_3': 1,\n",
              "         'NationalITy_4': 1,\n",
              "         'ParentAnsweringSurvey': 1,\n",
              "         'ParentschoolSatisfaction': 1,\n",
              "         'PlaceofBirth': 1,\n",
              "         'Relation': 1,\n",
              "         'SectionID': 1,\n",
              "         'Semester': 1,\n",
              "         'StudentAbsenceDays': 1,\n",
              "         'Topic': 1,\n",
              "         'VisITedResources': 1,\n",
              "         'gender': 1,\n",
              "         'lowerlevel': 1,\n",
              "         'raisedhands': 1})"
            ]
          },
          "metadata": {
            "tags": []
          },
          "execution_count": 374
        }
      ]
    },
    {
      "cell_type": "code",
      "metadata": {
        "colab": {
          "base_uri": "https://localhost:8080/",
          "height": 422
        },
        "id": "huotyHh3Osha",
        "outputId": "6b8f2d4f-912b-4999-cd2b-8524a72b3b34"
      },
      "source": [
        "datacopy"
      ],
      "execution_count": 375,
      "outputs": [
        {
          "output_type": "execute_result",
          "data": {
            "text/html": [
              "<div>\n",
              "<style scoped>\n",
              "    .dataframe tbody tr th:only-of-type {\n",
              "        vertical-align: middle;\n",
              "    }\n",
              "\n",
              "    .dataframe tbody tr th {\n",
              "        vertical-align: top;\n",
              "    }\n",
              "\n",
              "    .dataframe thead th {\n",
              "        text-align: right;\n",
              "    }\n",
              "</style>\n",
              "<table border=\"1\" class=\"dataframe\">\n",
              "  <thead>\n",
              "    <tr style=\"text-align: right;\">\n",
              "      <th></th>\n",
              "      <th>NationalITy_0</th>\n",
              "      <th>NationalITy_1</th>\n",
              "      <th>NationalITy_2</th>\n",
              "      <th>NationalITy_3</th>\n",
              "      <th>NationalITy_4</th>\n",
              "      <th>gender</th>\n",
              "      <th>NationalITy</th>\n",
              "      <th>PlaceofBirth</th>\n",
              "      <th>GradeID</th>\n",
              "      <th>SectionID</th>\n",
              "      <th>Topic</th>\n",
              "      <th>Semester</th>\n",
              "      <th>Relation</th>\n",
              "      <th>raisedhands</th>\n",
              "      <th>VisITedResources</th>\n",
              "      <th>AnnouncementsView</th>\n",
              "      <th>Discussion</th>\n",
              "      <th>ParentAnsweringSurvey</th>\n",
              "      <th>ParentschoolSatisfaction</th>\n",
              "      <th>StudentAbsenceDays</th>\n",
              "      <th>HighSchool</th>\n",
              "      <th>MiddleSchool</th>\n",
              "      <th>lowerlevel</th>\n",
              "    </tr>\n",
              "  </thead>\n",
              "  <tbody>\n",
              "    <tr>\n",
              "      <th>0</th>\n",
              "      <td>0</td>\n",
              "      <td>0</td>\n",
              "      <td>0</td>\n",
              "      <td>0</td>\n",
              "      <td>1</td>\n",
              "      <td>0</td>\n",
              "      <td>KW</td>\n",
              "      <td>KuwaIT</td>\n",
              "      <td>G-04</td>\n",
              "      <td>0</td>\n",
              "      <td>IT</td>\n",
              "      <td>0</td>\n",
              "      <td>0</td>\n",
              "      <td>15</td>\n",
              "      <td>16</td>\n",
              "      <td>2</td>\n",
              "      <td>20</td>\n",
              "      <td>1</td>\n",
              "      <td>1</td>\n",
              "      <td>0</td>\n",
              "      <td>0</td>\n",
              "      <td>0</td>\n",
              "      <td>1</td>\n",
              "    </tr>\n",
              "    <tr>\n",
              "      <th>1</th>\n",
              "      <td>0</td>\n",
              "      <td>0</td>\n",
              "      <td>0</td>\n",
              "      <td>0</td>\n",
              "      <td>1</td>\n",
              "      <td>0</td>\n",
              "      <td>KW</td>\n",
              "      <td>KuwaIT</td>\n",
              "      <td>G-04</td>\n",
              "      <td>0</td>\n",
              "      <td>IT</td>\n",
              "      <td>0</td>\n",
              "      <td>0</td>\n",
              "      <td>20</td>\n",
              "      <td>20</td>\n",
              "      <td>3</td>\n",
              "      <td>25</td>\n",
              "      <td>1</td>\n",
              "      <td>1</td>\n",
              "      <td>0</td>\n",
              "      <td>0</td>\n",
              "      <td>0</td>\n",
              "      <td>1</td>\n",
              "    </tr>\n",
              "    <tr>\n",
              "      <th>2</th>\n",
              "      <td>0</td>\n",
              "      <td>0</td>\n",
              "      <td>0</td>\n",
              "      <td>0</td>\n",
              "      <td>1</td>\n",
              "      <td>0</td>\n",
              "      <td>KW</td>\n",
              "      <td>KuwaIT</td>\n",
              "      <td>G-04</td>\n",
              "      <td>0</td>\n",
              "      <td>IT</td>\n",
              "      <td>0</td>\n",
              "      <td>0</td>\n",
              "      <td>10</td>\n",
              "      <td>7</td>\n",
              "      <td>0</td>\n",
              "      <td>30</td>\n",
              "      <td>0</td>\n",
              "      <td>0</td>\n",
              "      <td>1</td>\n",
              "      <td>0</td>\n",
              "      <td>0</td>\n",
              "      <td>1</td>\n",
              "    </tr>\n",
              "    <tr>\n",
              "      <th>3</th>\n",
              "      <td>0</td>\n",
              "      <td>0</td>\n",
              "      <td>0</td>\n",
              "      <td>0</td>\n",
              "      <td>1</td>\n",
              "      <td>0</td>\n",
              "      <td>KW</td>\n",
              "      <td>KuwaIT</td>\n",
              "      <td>G-04</td>\n",
              "      <td>0</td>\n",
              "      <td>IT</td>\n",
              "      <td>0</td>\n",
              "      <td>0</td>\n",
              "      <td>30</td>\n",
              "      <td>25</td>\n",
              "      <td>5</td>\n",
              "      <td>35</td>\n",
              "      <td>0</td>\n",
              "      <td>0</td>\n",
              "      <td>1</td>\n",
              "      <td>0</td>\n",
              "      <td>0</td>\n",
              "      <td>1</td>\n",
              "    </tr>\n",
              "    <tr>\n",
              "      <th>4</th>\n",
              "      <td>0</td>\n",
              "      <td>0</td>\n",
              "      <td>0</td>\n",
              "      <td>0</td>\n",
              "      <td>1</td>\n",
              "      <td>0</td>\n",
              "      <td>KW</td>\n",
              "      <td>KuwaIT</td>\n",
              "      <td>G-04</td>\n",
              "      <td>0</td>\n",
              "      <td>IT</td>\n",
              "      <td>0</td>\n",
              "      <td>0</td>\n",
              "      <td>40</td>\n",
              "      <td>50</td>\n",
              "      <td>12</td>\n",
              "      <td>50</td>\n",
              "      <td>0</td>\n",
              "      <td>0</td>\n",
              "      <td>1</td>\n",
              "      <td>0</td>\n",
              "      <td>0</td>\n",
              "      <td>1</td>\n",
              "    </tr>\n",
              "    <tr>\n",
              "      <th>...</th>\n",
              "      <td>...</td>\n",
              "      <td>...</td>\n",
              "      <td>...</td>\n",
              "      <td>...</td>\n",
              "      <td>...</td>\n",
              "      <td>...</td>\n",
              "      <td>...</td>\n",
              "      <td>...</td>\n",
              "      <td>...</td>\n",
              "      <td>...</td>\n",
              "      <td>...</td>\n",
              "      <td>...</td>\n",
              "      <td>...</td>\n",
              "      <td>...</td>\n",
              "      <td>...</td>\n",
              "      <td>...</td>\n",
              "      <td>...</td>\n",
              "      <td>...</td>\n",
              "      <td>...</td>\n",
              "      <td>...</td>\n",
              "      <td>...</td>\n",
              "      <td>...</td>\n",
              "      <td>...</td>\n",
              "    </tr>\n",
              "    <tr>\n",
              "      <th>475</th>\n",
              "      <td>0</td>\n",
              "      <td>0</td>\n",
              "      <td>1</td>\n",
              "      <td>1</td>\n",
              "      <td>0</td>\n",
              "      <td>1</td>\n",
              "      <td>Jordan</td>\n",
              "      <td>Jordan</td>\n",
              "      <td>G-08</td>\n",
              "      <td>0</td>\n",
              "      <td>Chemistry</td>\n",
              "      <td>1</td>\n",
              "      <td>0</td>\n",
              "      <td>5</td>\n",
              "      <td>4</td>\n",
              "      <td>5</td>\n",
              "      <td>8</td>\n",
              "      <td>0</td>\n",
              "      <td>0</td>\n",
              "      <td>1</td>\n",
              "      <td>0</td>\n",
              "      <td>1</td>\n",
              "      <td>0</td>\n",
              "    </tr>\n",
              "    <tr>\n",
              "      <th>476</th>\n",
              "      <td>0</td>\n",
              "      <td>0</td>\n",
              "      <td>1</td>\n",
              "      <td>1</td>\n",
              "      <td>0</td>\n",
              "      <td>1</td>\n",
              "      <td>Jordan</td>\n",
              "      <td>Jordan</td>\n",
              "      <td>G-08</td>\n",
              "      <td>0</td>\n",
              "      <td>Geology</td>\n",
              "      <td>0</td>\n",
              "      <td>0</td>\n",
              "      <td>50</td>\n",
              "      <td>77</td>\n",
              "      <td>14</td>\n",
              "      <td>28</td>\n",
              "      <td>0</td>\n",
              "      <td>0</td>\n",
              "      <td>0</td>\n",
              "      <td>0</td>\n",
              "      <td>1</td>\n",
              "      <td>0</td>\n",
              "    </tr>\n",
              "    <tr>\n",
              "      <th>477</th>\n",
              "      <td>0</td>\n",
              "      <td>0</td>\n",
              "      <td>1</td>\n",
              "      <td>1</td>\n",
              "      <td>0</td>\n",
              "      <td>1</td>\n",
              "      <td>Jordan</td>\n",
              "      <td>Jordan</td>\n",
              "      <td>G-08</td>\n",
              "      <td>0</td>\n",
              "      <td>Geology</td>\n",
              "      <td>1</td>\n",
              "      <td>0</td>\n",
              "      <td>55</td>\n",
              "      <td>74</td>\n",
              "      <td>25</td>\n",
              "      <td>29</td>\n",
              "      <td>0</td>\n",
              "      <td>0</td>\n",
              "      <td>0</td>\n",
              "      <td>0</td>\n",
              "      <td>1</td>\n",
              "      <td>0</td>\n",
              "    </tr>\n",
              "    <tr>\n",
              "      <th>478</th>\n",
              "      <td>0</td>\n",
              "      <td>0</td>\n",
              "      <td>1</td>\n",
              "      <td>1</td>\n",
              "      <td>0</td>\n",
              "      <td>1</td>\n",
              "      <td>Jordan</td>\n",
              "      <td>Jordan</td>\n",
              "      <td>G-08</td>\n",
              "      <td>0</td>\n",
              "      <td>History</td>\n",
              "      <td>0</td>\n",
              "      <td>0</td>\n",
              "      <td>30</td>\n",
              "      <td>17</td>\n",
              "      <td>14</td>\n",
              "      <td>57</td>\n",
              "      <td>0</td>\n",
              "      <td>0</td>\n",
              "      <td>1</td>\n",
              "      <td>0</td>\n",
              "      <td>1</td>\n",
              "      <td>0</td>\n",
              "    </tr>\n",
              "    <tr>\n",
              "      <th>479</th>\n",
              "      <td>0</td>\n",
              "      <td>0</td>\n",
              "      <td>1</td>\n",
              "      <td>1</td>\n",
              "      <td>0</td>\n",
              "      <td>1</td>\n",
              "      <td>Jordan</td>\n",
              "      <td>Jordan</td>\n",
              "      <td>G-08</td>\n",
              "      <td>0</td>\n",
              "      <td>History</td>\n",
              "      <td>1</td>\n",
              "      <td>0</td>\n",
              "      <td>35</td>\n",
              "      <td>14</td>\n",
              "      <td>23</td>\n",
              "      <td>62</td>\n",
              "      <td>0</td>\n",
              "      <td>0</td>\n",
              "      <td>1</td>\n",
              "      <td>0</td>\n",
              "      <td>1</td>\n",
              "      <td>0</td>\n",
              "    </tr>\n",
              "  </tbody>\n",
              "</table>\n",
              "<p>480 rows × 23 columns</p>\n",
              "</div>"
            ],
            "text/plain": [
              "     NationalITy_0  NationalITy_1  ...  MiddleSchool  lowerlevel\n",
              "0                0              0  ...             0           1\n",
              "1                0              0  ...             0           1\n",
              "2                0              0  ...             0           1\n",
              "3                0              0  ...             0           1\n",
              "4                0              0  ...             0           1\n",
              "..             ...            ...  ...           ...         ...\n",
              "475              0              0  ...             1           0\n",
              "476              0              0  ...             1           0\n",
              "477              0              0  ...             1           0\n",
              "478              0              0  ...             1           0\n",
              "479              0              0  ...             1           0\n",
              "\n",
              "[480 rows x 23 columns]"
            ]
          },
          "metadata": {
            "tags": []
          },
          "execution_count": 375
        }
      ]
    },
    {
      "cell_type": "code",
      "metadata": {
        "colab": {
          "base_uri": "https://localhost:8080/"
        },
        "id": "oyEjBFWZlv3y",
        "outputId": "ae798b2f-0262-4f23-d05c-102f00b962d8"
      },
      "source": [
        "Counter(data)"
      ],
      "execution_count": 376,
      "outputs": [
        {
          "output_type": "execute_result",
          "data": {
            "text/plain": [
              "Counter({'AnnouncementsView': 1,\n",
              "         'Discussion': 1,\n",
              "         'GradeID': 1,\n",
              "         'HighSchool': 1,\n",
              "         'MiddleSchool': 1,\n",
              "         'NationalITy': 1,\n",
              "         'ParentAnsweringSurvey': 1,\n",
              "         'ParentschoolSatisfaction': 1,\n",
              "         'PlaceofBirth': 1,\n",
              "         'Relation': 1,\n",
              "         'SectionID': 1,\n",
              "         'Semester': 1,\n",
              "         'StudentAbsenceDays': 1,\n",
              "         'Topic': 1,\n",
              "         'VisITedResources': 1,\n",
              "         'gender': 1,\n",
              "         'lowerlevel': 1,\n",
              "         'raisedhands': 1})"
            ]
          },
          "metadata": {
            "tags": []
          },
          "execution_count": 376
        }
      ]
    },
    {
      "cell_type": "code",
      "metadata": {
        "colab": {
          "base_uri": "https://localhost:8080/"
        },
        "id": "xSqJgNthy-NI",
        "outputId": "5d78ed1d-856d-4500-ce2b-4754bed0b182"
      },
      "source": [
        "new_data=data['PlaceofBirth']\n",
        "print(new_data)"
      ],
      "execution_count": 377,
      "outputs": [
        {
          "output_type": "stream",
          "text": [
            "0      KuwaIT\n",
            "1      KuwaIT\n",
            "2      KuwaIT\n",
            "3      KuwaIT\n",
            "4      KuwaIT\n",
            "        ...  \n",
            "475    Jordan\n",
            "476    Jordan\n",
            "477    Jordan\n",
            "478    Jordan\n",
            "479    Jordan\n",
            "Name: PlaceofBirth, Length: 480, dtype: object\n"
          ],
          "name": "stdout"
        }
      ]
    },
    {
      "cell_type": "code",
      "metadata": {
        "id": "Qk1g2Iwolv5k"
      },
      "source": [
        "encod= ce.BinaryEncoder(cols=['PlaceofBirth'])\n",
        "x=encod.fit_transform(new_data)"
      ],
      "execution_count": 378,
      "outputs": []
    },
    {
      "cell_type": "code",
      "metadata": {
        "id": "R6rEeUHz0GCa"
      },
      "source": [
        "datacopy=pd.concat([x,datacopy],axis=1)"
      ],
      "execution_count": 379,
      "outputs": []
    },
    {
      "cell_type": "code",
      "metadata": {
        "id": "Gj-NJzEFzMGj",
        "colab": {
          "base_uri": "https://localhost:8080/"
        },
        "outputId": "1696fdfe-118f-48a8-c954-e36641e27dad"
      },
      "source": [
        "x.info()"
      ],
      "execution_count": 380,
      "outputs": [
        {
          "output_type": "stream",
          "text": [
            "<class 'pandas.core.frame.DataFrame'>\n",
            "RangeIndex: 480 entries, 0 to 479\n",
            "Data columns (total 5 columns):\n",
            " #   Column          Non-Null Count  Dtype\n",
            "---  ------          --------------  -----\n",
            " 0   PlaceofBirth_0  480 non-null    int64\n",
            " 1   PlaceofBirth_1  480 non-null    int64\n",
            " 2   PlaceofBirth_2  480 non-null    int64\n",
            " 3   PlaceofBirth_3  480 non-null    int64\n",
            " 4   PlaceofBirth_4  480 non-null    int64\n",
            "dtypes: int64(5)\n",
            "memory usage: 18.9 KB\n"
          ],
          "name": "stdout"
        }
      ]
    },
    {
      "cell_type": "code",
      "metadata": {
        "colab": {
          "base_uri": "https://localhost:8080/",
          "height": 422
        },
        "id": "_KURJeIDPDpn",
        "outputId": "8e67bf98-93e6-445d-be91-98cc4d07f1d4"
      },
      "source": [
        "datacopy"
      ],
      "execution_count": 381,
      "outputs": [
        {
          "output_type": "execute_result",
          "data": {
            "text/html": [
              "<div>\n",
              "<style scoped>\n",
              "    .dataframe tbody tr th:only-of-type {\n",
              "        vertical-align: middle;\n",
              "    }\n",
              "\n",
              "    .dataframe tbody tr th {\n",
              "        vertical-align: top;\n",
              "    }\n",
              "\n",
              "    .dataframe thead th {\n",
              "        text-align: right;\n",
              "    }\n",
              "</style>\n",
              "<table border=\"1\" class=\"dataframe\">\n",
              "  <thead>\n",
              "    <tr style=\"text-align: right;\">\n",
              "      <th></th>\n",
              "      <th>PlaceofBirth_0</th>\n",
              "      <th>PlaceofBirth_1</th>\n",
              "      <th>PlaceofBirth_2</th>\n",
              "      <th>PlaceofBirth_3</th>\n",
              "      <th>PlaceofBirth_4</th>\n",
              "      <th>NationalITy_0</th>\n",
              "      <th>NationalITy_1</th>\n",
              "      <th>NationalITy_2</th>\n",
              "      <th>NationalITy_3</th>\n",
              "      <th>NationalITy_4</th>\n",
              "      <th>gender</th>\n",
              "      <th>NationalITy</th>\n",
              "      <th>PlaceofBirth</th>\n",
              "      <th>GradeID</th>\n",
              "      <th>SectionID</th>\n",
              "      <th>Topic</th>\n",
              "      <th>Semester</th>\n",
              "      <th>Relation</th>\n",
              "      <th>raisedhands</th>\n",
              "      <th>VisITedResources</th>\n",
              "      <th>AnnouncementsView</th>\n",
              "      <th>Discussion</th>\n",
              "      <th>ParentAnsweringSurvey</th>\n",
              "      <th>ParentschoolSatisfaction</th>\n",
              "      <th>StudentAbsenceDays</th>\n",
              "      <th>HighSchool</th>\n",
              "      <th>MiddleSchool</th>\n",
              "      <th>lowerlevel</th>\n",
              "    </tr>\n",
              "  </thead>\n",
              "  <tbody>\n",
              "    <tr>\n",
              "      <th>0</th>\n",
              "      <td>0</td>\n",
              "      <td>0</td>\n",
              "      <td>0</td>\n",
              "      <td>0</td>\n",
              "      <td>1</td>\n",
              "      <td>0</td>\n",
              "      <td>0</td>\n",
              "      <td>0</td>\n",
              "      <td>0</td>\n",
              "      <td>1</td>\n",
              "      <td>0</td>\n",
              "      <td>KW</td>\n",
              "      <td>KuwaIT</td>\n",
              "      <td>G-04</td>\n",
              "      <td>0</td>\n",
              "      <td>IT</td>\n",
              "      <td>0</td>\n",
              "      <td>0</td>\n",
              "      <td>15</td>\n",
              "      <td>16</td>\n",
              "      <td>2</td>\n",
              "      <td>20</td>\n",
              "      <td>1</td>\n",
              "      <td>1</td>\n",
              "      <td>0</td>\n",
              "      <td>0</td>\n",
              "      <td>0</td>\n",
              "      <td>1</td>\n",
              "    </tr>\n",
              "    <tr>\n",
              "      <th>1</th>\n",
              "      <td>0</td>\n",
              "      <td>0</td>\n",
              "      <td>0</td>\n",
              "      <td>0</td>\n",
              "      <td>1</td>\n",
              "      <td>0</td>\n",
              "      <td>0</td>\n",
              "      <td>0</td>\n",
              "      <td>0</td>\n",
              "      <td>1</td>\n",
              "      <td>0</td>\n",
              "      <td>KW</td>\n",
              "      <td>KuwaIT</td>\n",
              "      <td>G-04</td>\n",
              "      <td>0</td>\n",
              "      <td>IT</td>\n",
              "      <td>0</td>\n",
              "      <td>0</td>\n",
              "      <td>20</td>\n",
              "      <td>20</td>\n",
              "      <td>3</td>\n",
              "      <td>25</td>\n",
              "      <td>1</td>\n",
              "      <td>1</td>\n",
              "      <td>0</td>\n",
              "      <td>0</td>\n",
              "      <td>0</td>\n",
              "      <td>1</td>\n",
              "    </tr>\n",
              "    <tr>\n",
              "      <th>2</th>\n",
              "      <td>0</td>\n",
              "      <td>0</td>\n",
              "      <td>0</td>\n",
              "      <td>0</td>\n",
              "      <td>1</td>\n",
              "      <td>0</td>\n",
              "      <td>0</td>\n",
              "      <td>0</td>\n",
              "      <td>0</td>\n",
              "      <td>1</td>\n",
              "      <td>0</td>\n",
              "      <td>KW</td>\n",
              "      <td>KuwaIT</td>\n",
              "      <td>G-04</td>\n",
              "      <td>0</td>\n",
              "      <td>IT</td>\n",
              "      <td>0</td>\n",
              "      <td>0</td>\n",
              "      <td>10</td>\n",
              "      <td>7</td>\n",
              "      <td>0</td>\n",
              "      <td>30</td>\n",
              "      <td>0</td>\n",
              "      <td>0</td>\n",
              "      <td>1</td>\n",
              "      <td>0</td>\n",
              "      <td>0</td>\n",
              "      <td>1</td>\n",
              "    </tr>\n",
              "    <tr>\n",
              "      <th>3</th>\n",
              "      <td>0</td>\n",
              "      <td>0</td>\n",
              "      <td>0</td>\n",
              "      <td>0</td>\n",
              "      <td>1</td>\n",
              "      <td>0</td>\n",
              "      <td>0</td>\n",
              "      <td>0</td>\n",
              "      <td>0</td>\n",
              "      <td>1</td>\n",
              "      <td>0</td>\n",
              "      <td>KW</td>\n",
              "      <td>KuwaIT</td>\n",
              "      <td>G-04</td>\n",
              "      <td>0</td>\n",
              "      <td>IT</td>\n",
              "      <td>0</td>\n",
              "      <td>0</td>\n",
              "      <td>30</td>\n",
              "      <td>25</td>\n",
              "      <td>5</td>\n",
              "      <td>35</td>\n",
              "      <td>0</td>\n",
              "      <td>0</td>\n",
              "      <td>1</td>\n",
              "      <td>0</td>\n",
              "      <td>0</td>\n",
              "      <td>1</td>\n",
              "    </tr>\n",
              "    <tr>\n",
              "      <th>4</th>\n",
              "      <td>0</td>\n",
              "      <td>0</td>\n",
              "      <td>0</td>\n",
              "      <td>0</td>\n",
              "      <td>1</td>\n",
              "      <td>0</td>\n",
              "      <td>0</td>\n",
              "      <td>0</td>\n",
              "      <td>0</td>\n",
              "      <td>1</td>\n",
              "      <td>0</td>\n",
              "      <td>KW</td>\n",
              "      <td>KuwaIT</td>\n",
              "      <td>G-04</td>\n",
              "      <td>0</td>\n",
              "      <td>IT</td>\n",
              "      <td>0</td>\n",
              "      <td>0</td>\n",
              "      <td>40</td>\n",
              "      <td>50</td>\n",
              "      <td>12</td>\n",
              "      <td>50</td>\n",
              "      <td>0</td>\n",
              "      <td>0</td>\n",
              "      <td>1</td>\n",
              "      <td>0</td>\n",
              "      <td>0</td>\n",
              "      <td>1</td>\n",
              "    </tr>\n",
              "    <tr>\n",
              "      <th>...</th>\n",
              "      <td>...</td>\n",
              "      <td>...</td>\n",
              "      <td>...</td>\n",
              "      <td>...</td>\n",
              "      <td>...</td>\n",
              "      <td>...</td>\n",
              "      <td>...</td>\n",
              "      <td>...</td>\n",
              "      <td>...</td>\n",
              "      <td>...</td>\n",
              "      <td>...</td>\n",
              "      <td>...</td>\n",
              "      <td>...</td>\n",
              "      <td>...</td>\n",
              "      <td>...</td>\n",
              "      <td>...</td>\n",
              "      <td>...</td>\n",
              "      <td>...</td>\n",
              "      <td>...</td>\n",
              "      <td>...</td>\n",
              "      <td>...</td>\n",
              "      <td>...</td>\n",
              "      <td>...</td>\n",
              "      <td>...</td>\n",
              "      <td>...</td>\n",
              "      <td>...</td>\n",
              "      <td>...</td>\n",
              "      <td>...</td>\n",
              "    </tr>\n",
              "    <tr>\n",
              "      <th>475</th>\n",
              "      <td>0</td>\n",
              "      <td>0</td>\n",
              "      <td>1</td>\n",
              "      <td>1</td>\n",
              "      <td>0</td>\n",
              "      <td>0</td>\n",
              "      <td>0</td>\n",
              "      <td>1</td>\n",
              "      <td>1</td>\n",
              "      <td>0</td>\n",
              "      <td>1</td>\n",
              "      <td>Jordan</td>\n",
              "      <td>Jordan</td>\n",
              "      <td>G-08</td>\n",
              "      <td>0</td>\n",
              "      <td>Chemistry</td>\n",
              "      <td>1</td>\n",
              "      <td>0</td>\n",
              "      <td>5</td>\n",
              "      <td>4</td>\n",
              "      <td>5</td>\n",
              "      <td>8</td>\n",
              "      <td>0</td>\n",
              "      <td>0</td>\n",
              "      <td>1</td>\n",
              "      <td>0</td>\n",
              "      <td>1</td>\n",
              "      <td>0</td>\n",
              "    </tr>\n",
              "    <tr>\n",
              "      <th>476</th>\n",
              "      <td>0</td>\n",
              "      <td>0</td>\n",
              "      <td>1</td>\n",
              "      <td>1</td>\n",
              "      <td>0</td>\n",
              "      <td>0</td>\n",
              "      <td>0</td>\n",
              "      <td>1</td>\n",
              "      <td>1</td>\n",
              "      <td>0</td>\n",
              "      <td>1</td>\n",
              "      <td>Jordan</td>\n",
              "      <td>Jordan</td>\n",
              "      <td>G-08</td>\n",
              "      <td>0</td>\n",
              "      <td>Geology</td>\n",
              "      <td>0</td>\n",
              "      <td>0</td>\n",
              "      <td>50</td>\n",
              "      <td>77</td>\n",
              "      <td>14</td>\n",
              "      <td>28</td>\n",
              "      <td>0</td>\n",
              "      <td>0</td>\n",
              "      <td>0</td>\n",
              "      <td>0</td>\n",
              "      <td>1</td>\n",
              "      <td>0</td>\n",
              "    </tr>\n",
              "    <tr>\n",
              "      <th>477</th>\n",
              "      <td>0</td>\n",
              "      <td>0</td>\n",
              "      <td>1</td>\n",
              "      <td>1</td>\n",
              "      <td>0</td>\n",
              "      <td>0</td>\n",
              "      <td>0</td>\n",
              "      <td>1</td>\n",
              "      <td>1</td>\n",
              "      <td>0</td>\n",
              "      <td>1</td>\n",
              "      <td>Jordan</td>\n",
              "      <td>Jordan</td>\n",
              "      <td>G-08</td>\n",
              "      <td>0</td>\n",
              "      <td>Geology</td>\n",
              "      <td>1</td>\n",
              "      <td>0</td>\n",
              "      <td>55</td>\n",
              "      <td>74</td>\n",
              "      <td>25</td>\n",
              "      <td>29</td>\n",
              "      <td>0</td>\n",
              "      <td>0</td>\n",
              "      <td>0</td>\n",
              "      <td>0</td>\n",
              "      <td>1</td>\n",
              "      <td>0</td>\n",
              "    </tr>\n",
              "    <tr>\n",
              "      <th>478</th>\n",
              "      <td>0</td>\n",
              "      <td>0</td>\n",
              "      <td>1</td>\n",
              "      <td>1</td>\n",
              "      <td>0</td>\n",
              "      <td>0</td>\n",
              "      <td>0</td>\n",
              "      <td>1</td>\n",
              "      <td>1</td>\n",
              "      <td>0</td>\n",
              "      <td>1</td>\n",
              "      <td>Jordan</td>\n",
              "      <td>Jordan</td>\n",
              "      <td>G-08</td>\n",
              "      <td>0</td>\n",
              "      <td>History</td>\n",
              "      <td>0</td>\n",
              "      <td>0</td>\n",
              "      <td>30</td>\n",
              "      <td>17</td>\n",
              "      <td>14</td>\n",
              "      <td>57</td>\n",
              "      <td>0</td>\n",
              "      <td>0</td>\n",
              "      <td>1</td>\n",
              "      <td>0</td>\n",
              "      <td>1</td>\n",
              "      <td>0</td>\n",
              "    </tr>\n",
              "    <tr>\n",
              "      <th>479</th>\n",
              "      <td>0</td>\n",
              "      <td>0</td>\n",
              "      <td>1</td>\n",
              "      <td>1</td>\n",
              "      <td>0</td>\n",
              "      <td>0</td>\n",
              "      <td>0</td>\n",
              "      <td>1</td>\n",
              "      <td>1</td>\n",
              "      <td>0</td>\n",
              "      <td>1</td>\n",
              "      <td>Jordan</td>\n",
              "      <td>Jordan</td>\n",
              "      <td>G-08</td>\n",
              "      <td>0</td>\n",
              "      <td>History</td>\n",
              "      <td>1</td>\n",
              "      <td>0</td>\n",
              "      <td>35</td>\n",
              "      <td>14</td>\n",
              "      <td>23</td>\n",
              "      <td>62</td>\n",
              "      <td>0</td>\n",
              "      <td>0</td>\n",
              "      <td>1</td>\n",
              "      <td>0</td>\n",
              "      <td>1</td>\n",
              "      <td>0</td>\n",
              "    </tr>\n",
              "  </tbody>\n",
              "</table>\n",
              "<p>480 rows × 28 columns</p>\n",
              "</div>"
            ],
            "text/plain": [
              "     PlaceofBirth_0  PlaceofBirth_1  ...  MiddleSchool  lowerlevel\n",
              "0                 0               0  ...             0           1\n",
              "1                 0               0  ...             0           1\n",
              "2                 0               0  ...             0           1\n",
              "3                 0               0  ...             0           1\n",
              "4                 0               0  ...             0           1\n",
              "..              ...             ...  ...           ...         ...\n",
              "475               0               0  ...             1           0\n",
              "476               0               0  ...             1           0\n",
              "477               0               0  ...             1           0\n",
              "478               0               0  ...             1           0\n",
              "479               0               0  ...             1           0\n",
              "\n",
              "[480 rows x 28 columns]"
            ]
          },
          "metadata": {
            "tags": []
          },
          "execution_count": 381
        }
      ]
    },
    {
      "cell_type": "code",
      "metadata": {
        "id": "WNipCSMnlv7g",
        "colab": {
          "base_uri": "https://localhost:8080/"
        },
        "outputId": "a74a82ab-9109-4c02-d3ae-9a8b3d668821"
      },
      "source": [
        "datacopy.info()"
      ],
      "execution_count": 382,
      "outputs": [
        {
          "output_type": "stream",
          "text": [
            "<class 'pandas.core.frame.DataFrame'>\n",
            "RangeIndex: 480 entries, 0 to 479\n",
            "Data columns (total 28 columns):\n",
            " #   Column                    Non-Null Count  Dtype \n",
            "---  ------                    --------------  ----- \n",
            " 0   PlaceofBirth_0            480 non-null    int64 \n",
            " 1   PlaceofBirth_1            480 non-null    int64 \n",
            " 2   PlaceofBirth_2            480 non-null    int64 \n",
            " 3   PlaceofBirth_3            480 non-null    int64 \n",
            " 4   PlaceofBirth_4            480 non-null    int64 \n",
            " 5   NationalITy_0             480 non-null    int64 \n",
            " 6   NationalITy_1             480 non-null    int64 \n",
            " 7   NationalITy_2             480 non-null    int64 \n",
            " 8   NationalITy_3             480 non-null    int64 \n",
            " 9   NationalITy_4             480 non-null    int64 \n",
            " 10  gender                    480 non-null    int64 \n",
            " 11  NationalITy               480 non-null    object\n",
            " 12  PlaceofBirth              480 non-null    object\n",
            " 13  GradeID                   480 non-null    object\n",
            " 14  SectionID                 480 non-null    int64 \n",
            " 15  Topic                     480 non-null    object\n",
            " 16  Semester                  480 non-null    int64 \n",
            " 17  Relation                  480 non-null    int64 \n",
            " 18  raisedhands               480 non-null    int64 \n",
            " 19  VisITedResources          480 non-null    int64 \n",
            " 20  AnnouncementsView         480 non-null    int64 \n",
            " 21  Discussion                480 non-null    int64 \n",
            " 22  ParentAnsweringSurvey     480 non-null    int64 \n",
            " 23  ParentschoolSatisfaction  480 non-null    int64 \n",
            " 24  StudentAbsenceDays        480 non-null    int64 \n",
            " 25  HighSchool                480 non-null    uint8 \n",
            " 26  MiddleSchool              480 non-null    uint8 \n",
            " 27  lowerlevel                480 non-null    uint8 \n",
            "dtypes: int64(21), object(4), uint8(3)\n",
            "memory usage: 95.3+ KB\n"
          ],
          "name": "stdout"
        }
      ]
    },
    {
      "cell_type": "code",
      "metadata": {
        "id": "8SFjxpcRyzx9"
      },
      "source": [
        "datacopy=datacopy.drop(\"PlaceofBirth\",axis=1)"
      ],
      "execution_count": 383,
      "outputs": []
    },
    {
      "cell_type": "code",
      "metadata": {
        "id": "NIuPkDLK0gRG",
        "colab": {
          "base_uri": "https://localhost:8080/",
          "height": 215
        },
        "outputId": "633441c8-b3ff-4bcd-dc77-262f7cb076b0"
      },
      "source": [
        "data=datacopy\n",
        "data.head()"
      ],
      "execution_count": 384,
      "outputs": [
        {
          "output_type": "execute_result",
          "data": {
            "text/html": [
              "<div>\n",
              "<style scoped>\n",
              "    .dataframe tbody tr th:only-of-type {\n",
              "        vertical-align: middle;\n",
              "    }\n",
              "\n",
              "    .dataframe tbody tr th {\n",
              "        vertical-align: top;\n",
              "    }\n",
              "\n",
              "    .dataframe thead th {\n",
              "        text-align: right;\n",
              "    }\n",
              "</style>\n",
              "<table border=\"1\" class=\"dataframe\">\n",
              "  <thead>\n",
              "    <tr style=\"text-align: right;\">\n",
              "      <th></th>\n",
              "      <th>PlaceofBirth_0</th>\n",
              "      <th>PlaceofBirth_1</th>\n",
              "      <th>PlaceofBirth_2</th>\n",
              "      <th>PlaceofBirth_3</th>\n",
              "      <th>PlaceofBirth_4</th>\n",
              "      <th>NationalITy_0</th>\n",
              "      <th>NationalITy_1</th>\n",
              "      <th>NationalITy_2</th>\n",
              "      <th>NationalITy_3</th>\n",
              "      <th>NationalITy_4</th>\n",
              "      <th>gender</th>\n",
              "      <th>NationalITy</th>\n",
              "      <th>GradeID</th>\n",
              "      <th>SectionID</th>\n",
              "      <th>Topic</th>\n",
              "      <th>Semester</th>\n",
              "      <th>Relation</th>\n",
              "      <th>raisedhands</th>\n",
              "      <th>VisITedResources</th>\n",
              "      <th>AnnouncementsView</th>\n",
              "      <th>Discussion</th>\n",
              "      <th>ParentAnsweringSurvey</th>\n",
              "      <th>ParentschoolSatisfaction</th>\n",
              "      <th>StudentAbsenceDays</th>\n",
              "      <th>HighSchool</th>\n",
              "      <th>MiddleSchool</th>\n",
              "      <th>lowerlevel</th>\n",
              "    </tr>\n",
              "  </thead>\n",
              "  <tbody>\n",
              "    <tr>\n",
              "      <th>0</th>\n",
              "      <td>0</td>\n",
              "      <td>0</td>\n",
              "      <td>0</td>\n",
              "      <td>0</td>\n",
              "      <td>1</td>\n",
              "      <td>0</td>\n",
              "      <td>0</td>\n",
              "      <td>0</td>\n",
              "      <td>0</td>\n",
              "      <td>1</td>\n",
              "      <td>0</td>\n",
              "      <td>KW</td>\n",
              "      <td>G-04</td>\n",
              "      <td>0</td>\n",
              "      <td>IT</td>\n",
              "      <td>0</td>\n",
              "      <td>0</td>\n",
              "      <td>15</td>\n",
              "      <td>16</td>\n",
              "      <td>2</td>\n",
              "      <td>20</td>\n",
              "      <td>1</td>\n",
              "      <td>1</td>\n",
              "      <td>0</td>\n",
              "      <td>0</td>\n",
              "      <td>0</td>\n",
              "      <td>1</td>\n",
              "    </tr>\n",
              "    <tr>\n",
              "      <th>1</th>\n",
              "      <td>0</td>\n",
              "      <td>0</td>\n",
              "      <td>0</td>\n",
              "      <td>0</td>\n",
              "      <td>1</td>\n",
              "      <td>0</td>\n",
              "      <td>0</td>\n",
              "      <td>0</td>\n",
              "      <td>0</td>\n",
              "      <td>1</td>\n",
              "      <td>0</td>\n",
              "      <td>KW</td>\n",
              "      <td>G-04</td>\n",
              "      <td>0</td>\n",
              "      <td>IT</td>\n",
              "      <td>0</td>\n",
              "      <td>0</td>\n",
              "      <td>20</td>\n",
              "      <td>20</td>\n",
              "      <td>3</td>\n",
              "      <td>25</td>\n",
              "      <td>1</td>\n",
              "      <td>1</td>\n",
              "      <td>0</td>\n",
              "      <td>0</td>\n",
              "      <td>0</td>\n",
              "      <td>1</td>\n",
              "    </tr>\n",
              "    <tr>\n",
              "      <th>2</th>\n",
              "      <td>0</td>\n",
              "      <td>0</td>\n",
              "      <td>0</td>\n",
              "      <td>0</td>\n",
              "      <td>1</td>\n",
              "      <td>0</td>\n",
              "      <td>0</td>\n",
              "      <td>0</td>\n",
              "      <td>0</td>\n",
              "      <td>1</td>\n",
              "      <td>0</td>\n",
              "      <td>KW</td>\n",
              "      <td>G-04</td>\n",
              "      <td>0</td>\n",
              "      <td>IT</td>\n",
              "      <td>0</td>\n",
              "      <td>0</td>\n",
              "      <td>10</td>\n",
              "      <td>7</td>\n",
              "      <td>0</td>\n",
              "      <td>30</td>\n",
              "      <td>0</td>\n",
              "      <td>0</td>\n",
              "      <td>1</td>\n",
              "      <td>0</td>\n",
              "      <td>0</td>\n",
              "      <td>1</td>\n",
              "    </tr>\n",
              "    <tr>\n",
              "      <th>3</th>\n",
              "      <td>0</td>\n",
              "      <td>0</td>\n",
              "      <td>0</td>\n",
              "      <td>0</td>\n",
              "      <td>1</td>\n",
              "      <td>0</td>\n",
              "      <td>0</td>\n",
              "      <td>0</td>\n",
              "      <td>0</td>\n",
              "      <td>1</td>\n",
              "      <td>0</td>\n",
              "      <td>KW</td>\n",
              "      <td>G-04</td>\n",
              "      <td>0</td>\n",
              "      <td>IT</td>\n",
              "      <td>0</td>\n",
              "      <td>0</td>\n",
              "      <td>30</td>\n",
              "      <td>25</td>\n",
              "      <td>5</td>\n",
              "      <td>35</td>\n",
              "      <td>0</td>\n",
              "      <td>0</td>\n",
              "      <td>1</td>\n",
              "      <td>0</td>\n",
              "      <td>0</td>\n",
              "      <td>1</td>\n",
              "    </tr>\n",
              "    <tr>\n",
              "      <th>4</th>\n",
              "      <td>0</td>\n",
              "      <td>0</td>\n",
              "      <td>0</td>\n",
              "      <td>0</td>\n",
              "      <td>1</td>\n",
              "      <td>0</td>\n",
              "      <td>0</td>\n",
              "      <td>0</td>\n",
              "      <td>0</td>\n",
              "      <td>1</td>\n",
              "      <td>0</td>\n",
              "      <td>KW</td>\n",
              "      <td>G-04</td>\n",
              "      <td>0</td>\n",
              "      <td>IT</td>\n",
              "      <td>0</td>\n",
              "      <td>0</td>\n",
              "      <td>40</td>\n",
              "      <td>50</td>\n",
              "      <td>12</td>\n",
              "      <td>50</td>\n",
              "      <td>0</td>\n",
              "      <td>0</td>\n",
              "      <td>1</td>\n",
              "      <td>0</td>\n",
              "      <td>0</td>\n",
              "      <td>1</td>\n",
              "    </tr>\n",
              "  </tbody>\n",
              "</table>\n",
              "</div>"
            ],
            "text/plain": [
              "   PlaceofBirth_0  PlaceofBirth_1  ...  MiddleSchool  lowerlevel\n",
              "0               0               0  ...             0           1\n",
              "1               0               0  ...             0           1\n",
              "2               0               0  ...             0           1\n",
              "3               0               0  ...             0           1\n",
              "4               0               0  ...             0           1\n",
              "\n",
              "[5 rows x 27 columns]"
            ]
          },
          "metadata": {
            "tags": []
          },
          "execution_count": 384
        }
      ]
    },
    {
      "cell_type": "code",
      "metadata": {
        "id": "kVonh0Md0nqf",
        "colab": {
          "base_uri": "https://localhost:8080/"
        },
        "outputId": "00f81f24-f1af-4c5a-cbf0-ee9fbc375107"
      },
      "source": [
        "datacopy[\"GradeID\"].unique()"
      ],
      "execution_count": 385,
      "outputs": [
        {
          "output_type": "execute_result",
          "data": {
            "text/plain": [
              "array(['G-04', 'G-07', 'G-08', 'G-06', 'G-05', 'G-09', 'G-12', 'G-11',\n",
              "       'G-10', 'G-02'], dtype=object)"
            ]
          },
          "metadata": {
            "tags": []
          },
          "execution_count": 385
        }
      ]
    },
    {
      "cell_type": "code",
      "metadata": {
        "id": "tonin4qO1Lsl"
      },
      "source": [
        "qw={'G-04':2, 'G-07':5, 'G-08':6, 'G-06':4, 'G-05':3, 'G-09':7, 'G-12':10, 'G-11':9,\n",
        "       'G-10':8, 'G-02':1}"
      ],
      "execution_count": 386,
      "outputs": []
    },
    {
      "cell_type": "code",
      "metadata": {
        "id": "fqPStino13oK"
      },
      "source": [
        "datacopy[\"GradeID\"]=datacopy[\"GradeID\"].map(qw)"
      ],
      "execution_count": 387,
      "outputs": []
    },
    {
      "cell_type": "code",
      "metadata": {
        "id": "eQvB086O2Abw",
        "colab": {
          "base_uri": "https://localhost:8080/"
        },
        "outputId": "7d06c2b2-a4f1-41de-a361-98410ffc2d8e"
      },
      "source": [
        "datacopy[\"GradeID\"].unique()"
      ],
      "execution_count": 388,
      "outputs": [
        {
          "output_type": "execute_result",
          "data": {
            "text/plain": [
              "array([ 2,  5,  6,  4,  3,  7, 10,  9,  8,  1])"
            ]
          },
          "metadata": {
            "tags": []
          },
          "execution_count": 388
        }
      ]
    },
    {
      "cell_type": "code",
      "metadata": {
        "id": "C-GKuGKc2DPC",
        "colab": {
          "base_uri": "https://localhost:8080/"
        },
        "outputId": "a67da8f5-646e-406f-f625-10922ed28474"
      },
      "source": [
        "datacopy.info()"
      ],
      "execution_count": 389,
      "outputs": [
        {
          "output_type": "stream",
          "text": [
            "<class 'pandas.core.frame.DataFrame'>\n",
            "RangeIndex: 480 entries, 0 to 479\n",
            "Data columns (total 27 columns):\n",
            " #   Column                    Non-Null Count  Dtype \n",
            "---  ------                    --------------  ----- \n",
            " 0   PlaceofBirth_0            480 non-null    int64 \n",
            " 1   PlaceofBirth_1            480 non-null    int64 \n",
            " 2   PlaceofBirth_2            480 non-null    int64 \n",
            " 3   PlaceofBirth_3            480 non-null    int64 \n",
            " 4   PlaceofBirth_4            480 non-null    int64 \n",
            " 5   NationalITy_0             480 non-null    int64 \n",
            " 6   NationalITy_1             480 non-null    int64 \n",
            " 7   NationalITy_2             480 non-null    int64 \n",
            " 8   NationalITy_3             480 non-null    int64 \n",
            " 9   NationalITy_4             480 non-null    int64 \n",
            " 10  gender                    480 non-null    int64 \n",
            " 11  NationalITy               480 non-null    object\n",
            " 12  GradeID                   480 non-null    int64 \n",
            " 13  SectionID                 480 non-null    int64 \n",
            " 14  Topic                     480 non-null    object\n",
            " 15  Semester                  480 non-null    int64 \n",
            " 16  Relation                  480 non-null    int64 \n",
            " 17  raisedhands               480 non-null    int64 \n",
            " 18  VisITedResources          480 non-null    int64 \n",
            " 19  AnnouncementsView         480 non-null    int64 \n",
            " 20  Discussion                480 non-null    int64 \n",
            " 21  ParentAnsweringSurvey     480 non-null    int64 \n",
            " 22  ParentschoolSatisfaction  480 non-null    int64 \n",
            " 23  StudentAbsenceDays        480 non-null    int64 \n",
            " 24  HighSchool                480 non-null    uint8 \n",
            " 25  MiddleSchool              480 non-null    uint8 \n",
            " 26  lowerlevel                480 non-null    uint8 \n",
            "dtypes: int64(22), object(2), uint8(3)\n",
            "memory usage: 91.5+ KB\n"
          ],
          "name": "stdout"
        }
      ]
    },
    {
      "cell_type": "code",
      "metadata": {
        "id": "AHCLbb1O2P_C"
      },
      "source": [
        "data[\"Topic\"].unique()\n",
        "t=data[\"Topic\"]"
      ],
      "execution_count": 390,
      "outputs": []
    },
    {
      "cell_type": "code",
      "metadata": {
        "id": "IwkdfTCc2Trf"
      },
      "source": [
        "enc=ce.BinaryEncoder(cols=[\"Topic\"],return_df=True)\n"
      ],
      "execution_count": 391,
      "outputs": []
    },
    {
      "cell_type": "code",
      "metadata": {
        "id": "PzAo7duK2lTm"
      },
      "source": [
        "z=enc.fit_transform(t)"
      ],
      "execution_count": 392,
      "outputs": []
    },
    {
      "cell_type": "code",
      "metadata": {
        "colab": {
          "base_uri": "https://localhost:8080/",
          "height": 402
        },
        "id": "Cekn3vPA2sdd",
        "outputId": "c6fb776e-fc11-4418-c79d-5448588fc322"
      },
      "source": [
        "z"
      ],
      "execution_count": 393,
      "outputs": [
        {
          "output_type": "execute_result",
          "data": {
            "text/html": [
              "<div>\n",
              "<style scoped>\n",
              "    .dataframe tbody tr th:only-of-type {\n",
              "        vertical-align: middle;\n",
              "    }\n",
              "\n",
              "    .dataframe tbody tr th {\n",
              "        vertical-align: top;\n",
              "    }\n",
              "\n",
              "    .dataframe thead th {\n",
              "        text-align: right;\n",
              "    }\n",
              "</style>\n",
              "<table border=\"1\" class=\"dataframe\">\n",
              "  <thead>\n",
              "    <tr style=\"text-align: right;\">\n",
              "      <th></th>\n",
              "      <th>Topic_0</th>\n",
              "      <th>Topic_1</th>\n",
              "      <th>Topic_2</th>\n",
              "      <th>Topic_3</th>\n",
              "      <th>Topic_4</th>\n",
              "    </tr>\n",
              "  </thead>\n",
              "  <tbody>\n",
              "    <tr>\n",
              "      <th>0</th>\n",
              "      <td>0</td>\n",
              "      <td>0</td>\n",
              "      <td>0</td>\n",
              "      <td>0</td>\n",
              "      <td>1</td>\n",
              "    </tr>\n",
              "    <tr>\n",
              "      <th>1</th>\n",
              "      <td>0</td>\n",
              "      <td>0</td>\n",
              "      <td>0</td>\n",
              "      <td>0</td>\n",
              "      <td>1</td>\n",
              "    </tr>\n",
              "    <tr>\n",
              "      <th>2</th>\n",
              "      <td>0</td>\n",
              "      <td>0</td>\n",
              "      <td>0</td>\n",
              "      <td>0</td>\n",
              "      <td>1</td>\n",
              "    </tr>\n",
              "    <tr>\n",
              "      <th>3</th>\n",
              "      <td>0</td>\n",
              "      <td>0</td>\n",
              "      <td>0</td>\n",
              "      <td>0</td>\n",
              "      <td>1</td>\n",
              "    </tr>\n",
              "    <tr>\n",
              "      <th>4</th>\n",
              "      <td>0</td>\n",
              "      <td>0</td>\n",
              "      <td>0</td>\n",
              "      <td>0</td>\n",
              "      <td>1</td>\n",
              "    </tr>\n",
              "    <tr>\n",
              "      <th>...</th>\n",
              "      <td>...</td>\n",
              "      <td>...</td>\n",
              "      <td>...</td>\n",
              "      <td>...</td>\n",
              "      <td>...</td>\n",
              "    </tr>\n",
              "    <tr>\n",
              "      <th>475</th>\n",
              "      <td>0</td>\n",
              "      <td>1</td>\n",
              "      <td>0</td>\n",
              "      <td>1</td>\n",
              "      <td>1</td>\n",
              "    </tr>\n",
              "    <tr>\n",
              "      <th>476</th>\n",
              "      <td>0</td>\n",
              "      <td>1</td>\n",
              "      <td>1</td>\n",
              "      <td>0</td>\n",
              "      <td>0</td>\n",
              "    </tr>\n",
              "    <tr>\n",
              "      <th>477</th>\n",
              "      <td>0</td>\n",
              "      <td>1</td>\n",
              "      <td>1</td>\n",
              "      <td>0</td>\n",
              "      <td>0</td>\n",
              "    </tr>\n",
              "    <tr>\n",
              "      <th>478</th>\n",
              "      <td>0</td>\n",
              "      <td>1</td>\n",
              "      <td>0</td>\n",
              "      <td>0</td>\n",
              "      <td>1</td>\n",
              "    </tr>\n",
              "    <tr>\n",
              "      <th>479</th>\n",
              "      <td>0</td>\n",
              "      <td>1</td>\n",
              "      <td>0</td>\n",
              "      <td>0</td>\n",
              "      <td>1</td>\n",
              "    </tr>\n",
              "  </tbody>\n",
              "</table>\n",
              "<p>480 rows × 5 columns</p>\n",
              "</div>"
            ],
            "text/plain": [
              "     Topic_0  Topic_1  Topic_2  Topic_3  Topic_4\n",
              "0          0        0        0        0        1\n",
              "1          0        0        0        0        1\n",
              "2          0        0        0        0        1\n",
              "3          0        0        0        0        1\n",
              "4          0        0        0        0        1\n",
              "..       ...      ...      ...      ...      ...\n",
              "475        0        1        0        1        1\n",
              "476        0        1        1        0        0\n",
              "477        0        1        1        0        0\n",
              "478        0        1        0        0        1\n",
              "479        0        1        0        0        1\n",
              "\n",
              "[480 rows x 5 columns]"
            ]
          },
          "metadata": {
            "tags": []
          },
          "execution_count": 393
        }
      ]
    },
    {
      "cell_type": "code",
      "metadata": {
        "id": "pkRRc59r2tpZ"
      },
      "source": [
        "t=datacopy[\"Topic\"]"
      ],
      "execution_count": 394,
      "outputs": []
    },
    {
      "cell_type": "code",
      "metadata": {
        "id": "_yJRD4AR2yLS"
      },
      "source": [
        "datacopy=pd.concat([datacopy,z],axis=1)"
      ],
      "execution_count": 395,
      "outputs": []
    },
    {
      "cell_type": "code",
      "metadata": {
        "colab": {
          "base_uri": "https://localhost:8080/"
        },
        "id": "SrcMequY3AOF",
        "outputId": "b3bc9062-d246-4699-9ae1-ebd7dfe8240e"
      },
      "source": [
        "datacopy.info()"
      ],
      "execution_count": 396,
      "outputs": [
        {
          "output_type": "stream",
          "text": [
            "<class 'pandas.core.frame.DataFrame'>\n",
            "RangeIndex: 480 entries, 0 to 479\n",
            "Data columns (total 32 columns):\n",
            " #   Column                    Non-Null Count  Dtype \n",
            "---  ------                    --------------  ----- \n",
            " 0   PlaceofBirth_0            480 non-null    int64 \n",
            " 1   PlaceofBirth_1            480 non-null    int64 \n",
            " 2   PlaceofBirth_2            480 non-null    int64 \n",
            " 3   PlaceofBirth_3            480 non-null    int64 \n",
            " 4   PlaceofBirth_4            480 non-null    int64 \n",
            " 5   NationalITy_0             480 non-null    int64 \n",
            " 6   NationalITy_1             480 non-null    int64 \n",
            " 7   NationalITy_2             480 non-null    int64 \n",
            " 8   NationalITy_3             480 non-null    int64 \n",
            " 9   NationalITy_4             480 non-null    int64 \n",
            " 10  gender                    480 non-null    int64 \n",
            " 11  NationalITy               480 non-null    object\n",
            " 12  GradeID                   480 non-null    int64 \n",
            " 13  SectionID                 480 non-null    int64 \n",
            " 14  Topic                     480 non-null    object\n",
            " 15  Semester                  480 non-null    int64 \n",
            " 16  Relation                  480 non-null    int64 \n",
            " 17  raisedhands               480 non-null    int64 \n",
            " 18  VisITedResources          480 non-null    int64 \n",
            " 19  AnnouncementsView         480 non-null    int64 \n",
            " 20  Discussion                480 non-null    int64 \n",
            " 21  ParentAnsweringSurvey     480 non-null    int64 \n",
            " 22  ParentschoolSatisfaction  480 non-null    int64 \n",
            " 23  StudentAbsenceDays        480 non-null    int64 \n",
            " 24  HighSchool                480 non-null    uint8 \n",
            " 25  MiddleSchool              480 non-null    uint8 \n",
            " 26  lowerlevel                480 non-null    uint8 \n",
            " 27  Topic_0                   480 non-null    int64 \n",
            " 28  Topic_1                   480 non-null    int64 \n",
            " 29  Topic_2                   480 non-null    int64 \n",
            " 30  Topic_3                   480 non-null    int64 \n",
            " 31  Topic_4                   480 non-null    int64 \n",
            "dtypes: int64(27), object(2), uint8(3)\n",
            "memory usage: 110.3+ KB\n"
          ],
          "name": "stdout"
        }
      ]
    },
    {
      "cell_type": "code",
      "metadata": {
        "id": "UzL3yQzo3BrT"
      },
      "source": [
        "datacopy=datacopy.drop([\"Topic\",\"NationalITy\"],axis=1)"
      ],
      "execution_count": 397,
      "outputs": []
    },
    {
      "cell_type": "markdown",
      "metadata": {
        "id": "lyJdMSkqQjtD"
      },
      "source": [
        "Doing the train test split of the data"
      ]
    },
    {
      "cell_type": "code",
      "metadata": {
        "id": "jPAQgsod5PkH"
      },
      "source": [
        "from sklearn.model_selection import train_test_split"
      ],
      "execution_count": 398,
      "outputs": []
    },
    {
      "cell_type": "code",
      "metadata": {
        "id": "7gJfAbup3YaJ"
      },
      "source": [
        "Xtrain,Xtest,Ytrain,Ytest=train_test_split(datacopy.drop(\"GradeID\",axis=1),datacopy['GradeID'],random_state=14,test_size=0.3)"
      ],
      "execution_count": 399,
      "outputs": []
    },
    {
      "cell_type": "code",
      "metadata": {
        "id": "D7VuepAK4X5I"
      },
      "source": [
        "from sklearn.metrics import accuracy_score,confusion_matrix"
      ],
      "execution_count": 400,
      "outputs": []
    },
    {
      "cell_type": "markdown",
      "metadata": {
        "id": "kJKZo_dyQ_1i"
      },
      "source": [
        "Applying Random Forest Classifer as the data is mostly categorical in nature so Random Forest can do best Classification"
      ]
    },
    {
      "cell_type": "code",
      "metadata": {
        "colab": {
          "base_uri": "https://localhost:8080/"
        },
        "id": "ehli_NU813ZX",
        "outputId": "f786eb26-007c-42aa-eb9d-f9bf8351ddf7"
      },
      "source": [
        "from sklearn.ensemble import RandomForestClassifier\n",
        "d=RandomForestClassifier(n_estimators=99)\n",
        "d.fit(Xtrain,Ytrain)"
      ],
      "execution_count": 401,
      "outputs": [
        {
          "output_type": "execute_result",
          "data": {
            "text/plain": [
              "RandomForestClassifier(bootstrap=True, ccp_alpha=0.0, class_weight=None,\n",
              "                       criterion='gini', max_depth=None, max_features='auto',\n",
              "                       max_leaf_nodes=None, max_samples=None,\n",
              "                       min_impurity_decrease=0.0, min_impurity_split=None,\n",
              "                       min_samples_leaf=1, min_samples_split=2,\n",
              "                       min_weight_fraction_leaf=0.0, n_estimators=99,\n",
              "                       n_jobs=None, oob_score=False, random_state=None,\n",
              "                       verbose=0, warm_start=False)"
            ]
          },
          "metadata": {
            "tags": []
          },
          "execution_count": 401
        }
      ]
    },
    {
      "cell_type": "code",
      "metadata": {
        "id": "sh1aJQui6K6J"
      },
      "source": [
        "pred=d.predict(Xtest)\n"
      ],
      "execution_count": 402,
      "outputs": []
    },
    {
      "cell_type": "code",
      "metadata": {
        "colab": {
          "base_uri": "https://localhost:8080/"
        },
        "id": "j2E7VydbQtwM",
        "outputId": "85a52efb-dbbe-4ad0-e14a-d4733fd9c62b"
      },
      "source": [
        "confusion_matrix(Ytest,pred)"
      ],
      "execution_count": 403,
      "outputs": [
        {
          "output_type": "execute_result",
          "data": {
            "text/plain": [
              "array([[40,  1,  0,  0,  0,  0,  0,  0,  0,  0],\n",
              "       [ 0, 16,  0,  0,  0,  0,  0,  0,  0,  0],\n",
              "       [ 0,  1,  1,  0,  0,  0,  0,  0,  0,  0],\n",
              "       [ 0,  0,  0,  7,  1,  0,  0,  0,  0,  0],\n",
              "       [ 0,  0,  0,  1, 26,  1,  0,  0,  0,  0],\n",
              "       [ 0,  0,  0,  0,  1, 39,  0,  0,  0,  0],\n",
              "       [ 0,  0,  0,  0,  0,  0,  1,  2,  0,  0],\n",
              "       [ 0,  0,  0,  0,  0,  0,  0,  0,  0,  1],\n",
              "       [ 0,  0,  0,  0,  0,  0,  0,  0,  4,  0],\n",
              "       [ 0,  0,  0,  0,  0,  0,  0,  0,  0,  1]])"
            ]
          },
          "metadata": {
            "tags": []
          },
          "execution_count": 403
        }
      ]
    },
    {
      "cell_type": "code",
      "metadata": {
        "colab": {
          "base_uri": "https://localhost:8080/"
        },
        "id": "X5xGFFwc6Ppr",
        "outputId": "7dea500c-afb1-4d1b-ffa3-5ebfdc43482f"
      },
      "source": [
        "accuracy_score(Ytest,pred).round(2)*100"
      ],
      "execution_count": 406,
      "outputs": [
        {
          "output_type": "execute_result",
          "data": {
            "text/plain": [
              "94.0"
            ]
          },
          "metadata": {
            "tags": []
          },
          "execution_count": 406
        }
      ]
    },
    {
      "cell_type": "markdown",
      "metadata": {
        "id": "7JmpqvsvRYGB"
      },
      "source": [
        "Our Model is 94% confident on it's Prediction :D"
      ]
    }
  ]
}