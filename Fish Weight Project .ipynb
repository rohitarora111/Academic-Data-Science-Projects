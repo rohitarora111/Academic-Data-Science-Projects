{
  "nbformat": 4,
  "nbformat_minor": 0,
  "metadata": {
    "colab": {
      "name": "Predicting the weight of fish.ipynb",
      "provenance": [],
      "collapsed_sections": []
    },
    "kernelspec": {
      "display_name": "Python 3",
      "language": "python",
      "name": "python3"
    },
    "language_info": {
      "codemirror_mode": {
        "name": "ipython",
        "version": 3
      },
      "file_extension": ".py",
      "mimetype": "text/x-python",
      "name": "python",
      "nbconvert_exporter": "python",
      "pygments_lexer": "ipython3",
      "version": "3.8.8"
    }
  },
  "cells": [
    {
      "cell_type": "markdown",
      "metadata": {
        "id": "cHPcDlShuMLt"
      },
      "source": [
        "># Building a Linear Regression Model to predict the Weight of a fish depending upon it's type , different dimensional lenghth and it's width"
      ]
    },
    {
      "cell_type": "code",
      "metadata": {
        "id": "oZwKeJ4Upv3p"
      },
      "source": [
        "import pandas as pd\n",
        "import seaborn as sns\n",
        "from scipy import stats\n",
        "import matplotlib.pyplot as plt\n",
        "from sklearn.preprocessing import StandardScaler\n",
        "plt.rcParams['figure.figsize'] = (18,6)"
      ],
      "execution_count": 66,
      "outputs": []
    },
    {
      "cell_type": "markdown",
      "metadata": {
        "id": "oC6IUyFWu8CL"
      },
      "source": [
        ">Importing the dataset in data variable"
      ]
    },
    {
      "cell_type": "code",
      "metadata": {
        "id": "0gNx-583raA3"
      },
      "source": [
        "data=pd.read_csv(\"Fish_dataset.csv\")"
      ],
      "execution_count": 117,
      "outputs": []
    },
    {
      "cell_type": "code",
      "metadata": {
        "colab": {
          "base_uri": "https://localhost:8080/",
          "height": 195
        },
        "id": "euyp2ey1af_S",
        "outputId": "4801c135-e608-4002-e6b7-43ea12debb69"
      },
      "source": [
        "data.head()"
      ],
      "execution_count": 68,
      "outputs": [
        {
          "output_type": "execute_result",
          "data": {
            "text/html": [
              "<div>\n",
              "<style scoped>\n",
              "    .dataframe tbody tr th:only-of-type {\n",
              "        vertical-align: middle;\n",
              "    }\n",
              "\n",
              "    .dataframe tbody tr th {\n",
              "        vertical-align: top;\n",
              "    }\n",
              "\n",
              "    .dataframe thead th {\n",
              "        text-align: right;\n",
              "    }\n",
              "</style>\n",
              "<table border=\"1\" class=\"dataframe\">\n",
              "  <thead>\n",
              "    <tr style=\"text-align: right;\">\n",
              "      <th></th>\n",
              "      <th>Species</th>\n",
              "      <th>Weight</th>\n",
              "      <th>Length1</th>\n",
              "      <th>Length2</th>\n",
              "      <th>Length3</th>\n",
              "      <th>Height</th>\n",
              "      <th>Width</th>\n",
              "    </tr>\n",
              "  </thead>\n",
              "  <tbody>\n",
              "    <tr>\n",
              "      <th>0</th>\n",
              "      <td>Bream</td>\n",
              "      <td>242.0</td>\n",
              "      <td>23.2</td>\n",
              "      <td>25.4</td>\n",
              "      <td>30.0</td>\n",
              "      <td>11.5200</td>\n",
              "      <td>4.0200</td>\n",
              "    </tr>\n",
              "    <tr>\n",
              "      <th>1</th>\n",
              "      <td>Bream</td>\n",
              "      <td>290.0</td>\n",
              "      <td>24.0</td>\n",
              "      <td>26.3</td>\n",
              "      <td>31.2</td>\n",
              "      <td>12.4800</td>\n",
              "      <td>4.3056</td>\n",
              "    </tr>\n",
              "    <tr>\n",
              "      <th>2</th>\n",
              "      <td>Bream</td>\n",
              "      <td>340.0</td>\n",
              "      <td>23.9</td>\n",
              "      <td>26.5</td>\n",
              "      <td>31.1</td>\n",
              "      <td>12.3778</td>\n",
              "      <td>4.6961</td>\n",
              "    </tr>\n",
              "    <tr>\n",
              "      <th>3</th>\n",
              "      <td>Bream</td>\n",
              "      <td>363.0</td>\n",
              "      <td>26.3</td>\n",
              "      <td>29.0</td>\n",
              "      <td>33.5</td>\n",
              "      <td>12.7300</td>\n",
              "      <td>4.4555</td>\n",
              "    </tr>\n",
              "    <tr>\n",
              "      <th>4</th>\n",
              "      <td>Bream</td>\n",
              "      <td>430.0</td>\n",
              "      <td>26.5</td>\n",
              "      <td>29.0</td>\n",
              "      <td>34.0</td>\n",
              "      <td>12.4440</td>\n",
              "      <td>5.1340</td>\n",
              "    </tr>\n",
              "  </tbody>\n",
              "</table>\n",
              "</div>"
            ],
            "text/plain": [
              "  Species  Weight  Length1  Length2  Length3   Height   Width\n",
              "0   Bream   242.0     23.2     25.4     30.0  11.5200  4.0200\n",
              "1   Bream   290.0     24.0     26.3     31.2  12.4800  4.3056\n",
              "2   Bream   340.0     23.9     26.5     31.1  12.3778  4.6961\n",
              "3   Bream   363.0     26.3     29.0     33.5  12.7300  4.4555\n",
              "4   Bream   430.0     26.5     29.0     34.0  12.4440  5.1340"
            ]
          },
          "metadata": {
            "tags": []
          },
          "execution_count": 68
        }
      ]
    },
    {
      "cell_type": "code",
      "metadata": {
        "colab": {
          "base_uri": "https://localhost:8080/"
        },
        "id": "iDHODvySrqaB",
        "outputId": "ace7b190-4752-4b12-cabf-74b699d0c57b"
      },
      "source": [
        "data.info()"
      ],
      "execution_count": 69,
      "outputs": [
        {
          "output_type": "stream",
          "text": [
            "<class 'pandas.core.frame.DataFrame'>\n",
            "RangeIndex: 159 entries, 0 to 158\n",
            "Data columns (total 7 columns):\n",
            " #   Column   Non-Null Count  Dtype  \n",
            "---  ------   --------------  -----  \n",
            " 0   Species  159 non-null    object \n",
            " 1   Weight   159 non-null    float64\n",
            " 2   Length1  159 non-null    float64\n",
            " 3   Length2  159 non-null    float64\n",
            " 4   Length3  159 non-null    float64\n",
            " 5   Height   159 non-null    float64\n",
            " 6   Width    159 non-null    float64\n",
            "dtypes: float64(6), object(1)\n",
            "memory usage: 8.8+ KB\n"
          ],
          "name": "stdout"
        }
      ]
    },
    {
      "cell_type": "markdown",
      "metadata": {
        "id": "SwCwIycevbdO"
      },
      "source": [
        ">Checking the frequency of fishes in different Species in dataset"
      ]
    },
    {
      "cell_type": "code",
      "metadata": {
        "colab": {
          "base_uri": "https://localhost:8080/",
          "height": 405
        },
        "id": "6JzQHFPjrrVO",
        "outputId": "c6b00984-8208-42cd-8608-aaecb483178c"
      },
      "source": [
        "sns.countplot(data=data,x=\"Species\")"
      ],
      "execution_count": 71,
      "outputs": [
        {
          "output_type": "execute_result",
          "data": {
            "text/plain": [
              "<matplotlib.axes._subplots.AxesSubplot at 0x7f42325b8b50>"
            ]
          },
          "metadata": {
            "tags": []
          },
          "execution_count": 71
        },
        {
          "output_type": "display_data",
          "data": {
            "image/png": "[encoded data removed]",
            "text/plain": [
              "<Figure size 1296x432 with 1 Axes>"
            ]
          },
          "metadata": {
            "tags": [],
            "needs_background": "light"
          }
        }
      ]
    },
    {
      "cell_type": "markdown",
      "metadata": {
        "id": "49PmgkkBvwRg"
      },
      "source": [
        ">Checking the outlier value in our Dataset"
      ]
    },
    {
      "cell_type": "code",
      "metadata": {
        "colab": {
          "base_uri": "https://localhost:8080/",
          "height": 391
        },
        "id": "IxpnuiV-5E5e",
        "outputId": "29208e1e-2ac5-4bce-bb46-4f34bec1278a"
      },
      "source": [
        "data.drop(\"Weight\",axis=1).boxplot()"
      ],
      "execution_count": 70,
      "outputs": [
        {
          "output_type": "execute_result",
          "data": {
            "text/plain": [
              "<matplotlib.axes._subplots.AxesSubplot at 0x7f42373de5d0>"
            ]
          },
          "metadata": {
            "tags": []
          },
          "execution_count": 70
        },
        {
          "output_type": "display_data",
          "data": {
            "image/png": "[encoded data removed]",
            "text/plain": [
              "<Figure size 1296x432 with 1 Axes>"
            ]
          },
          "metadata": {
            "tags": [],
            "needs_background": "light"
          }
        }
      ]
    },
    {
      "cell_type": "markdown",
      "metadata": {
        "id": "cfc-3wHMv2N8"
      },
      "source": [
        ">Visualization of correlation matrix using heatmap"
      ]
    },
    {
      "cell_type": "code",
      "metadata": {
        "colab": {
          "base_uri": "https://localhost:8080/",
          "height": 395
        },
        "id": "vthLs-VOstoL",
        "outputId": "2c38d02f-0716-4781-fd24-01ff72f9511a"
      },
      "source": [
        "sns.heatmap(data.drop(\"Species\",axis=1).corr(),annot=True)"
      ],
      "execution_count": 120,
      "outputs": [
        {
          "output_type": "execute_result",
          "data": {
            "text/plain": [
              "<matplotlib.axes._subplots.AxesSubplot at 0x7f42298c9450>"
            ]
          },
          "metadata": {
            "tags": []
          },
          "execution_count": 120
        },
        {
          "output_type": "display_data",
          "data": {
            "image/png": "[encoded data removed]",
            "text/plain": [
              "<Figure size 1296x432 with 2 Axes>"
            ]
          },
          "metadata": {
            "tags": [],
            "needs_background": "light"
          }
        }
      ]
    },
    {
      "cell_type": "markdown",
      "metadata": {
        "id": "Gmw5jwaEwAYn"
      },
      "source": [
        "Peforming Preprocessing of the data"
      ]
    },
    {
      "cell_type": "code",
      "metadata": {
        "colab": {
          "base_uri": "https://localhost:8080/",
          "height": 47
        },
        "id": "qEFhUCGPr99n",
        "outputId": "d85e6678-3569-4d00-fd4b-bb7af9c00a69"
      },
      "source": [
        "data['z_score']=stats.zscore(data['Weight'])\n",
        "y=data[data[\"z_score\"]>=3].index\n",
        "data.drop(y,inplace=True) # to eliminate the outliers in wieght\n",
        "data[data[\"z_score\"]>=3]"
      ],
      "execution_count": 72,
      "outputs": [
        {
          "output_type": "execute_result",
          "data": {
            "text/html": [
              "<div>\n",
              "<style scoped>\n",
              "    .dataframe tbody tr th:only-of-type {\n",
              "        vertical-align: middle;\n",
              "    }\n",
              "\n",
              "    .dataframe tbody tr th {\n",
              "        vertical-align: top;\n",
              "    }\n",
              "\n",
              "    .dataframe thead th {\n",
              "        text-align: right;\n",
              "    }\n",
              "</style>\n",
              "<table border=\"1\" class=\"dataframe\">\n",
              "  <thead>\n",
              "    <tr style=\"text-align: right;\">\n",
              "      <th></th>\n",
              "      <th>Species</th>\n",
              "      <th>Weight</th>\n",
              "      <th>Length1</th>\n",
              "      <th>Length2</th>\n",
              "      <th>Length3</th>\n",
              "      <th>Height</th>\n",
              "      <th>Width</th>\n",
              "      <th>z_score</th>\n",
              "    </tr>\n",
              "  </thead>\n",
              "  <tbody>\n",
              "  </tbody>\n",
              "</table>\n",
              "</div>"
            ],
            "text/plain": [
              "Empty DataFrame\n",
              "Columns: [Species, Weight, Length1, Length2, Length3, Height, Width, z_score]\n",
              "Index: []"
            ]
          },
          "metadata": {
            "tags": []
          },
          "execution_count": 72
        }
      ]
    },
    {
      "cell_type": "code",
      "metadata": {
        "id": "_uVBgiU0thWR"
      },
      "source": [
        "df=pd.get_dummies(data[\"Species\"])# dummies for species"
      ],
      "execution_count": 73,
      "outputs": []
    },
    {
      "cell_type": "code",
      "metadata": {
        "id": "4_v82215bd0j"
      },
      "source": [
        "data=pd.concat([data,df],axis=1)"
      ],
      "execution_count": 74,
      "outputs": []
    },
    {
      "cell_type": "code",
      "metadata": {
        "id": "P2dPWqSl3J7I"
      },
      "source": [
        "data.drop([\"Species\",\"z_score\"],inplace=True,axis=1)"
      ],
      "execution_count": 75,
      "outputs": []
    },
    {
      "cell_type": "code",
      "metadata": {
        "colab": {
          "base_uri": "https://localhost:8080/",
          "height": 304
        },
        "id": "KnpLyE0Z3ZXl",
        "outputId": "886d4ee9-53e1-4d3f-e7f3-e39f604c9b4a"
      },
      "source": [
        "data.describe()\n"
      ],
      "execution_count": 76,
      "outputs": [
        {
          "output_type": "execute_result",
          "data": {
            "text/html": [
              "<div>\n",
              "<style scoped>\n",
              "    .dataframe tbody tr th:only-of-type {\n",
              "        vertical-align: middle;\n",
              "    }\n",
              "\n",
              "    .dataframe tbody tr th {\n",
              "        vertical-align: top;\n",
              "    }\n",
              "\n",
              "    .dataframe thead th {\n",
              "        text-align: right;\n",
              "    }\n",
              "</style>\n",
              "<table border=\"1\" class=\"dataframe\">\n",
              "  <thead>\n",
              "    <tr style=\"text-align: right;\">\n",
              "      <th></th>\n",
              "      <th>Weight</th>\n",
              "      <th>Length1</th>\n",
              "      <th>Length2</th>\n",
              "      <th>Length3</th>\n",
              "      <th>Height</th>\n",
              "      <th>Width</th>\n",
              "      <th>Bream</th>\n",
              "      <th>Parkki</th>\n",
              "      <th>Perch</th>\n",
              "      <th>Pike</th>\n",
              "      <th>Roach</th>\n",
              "      <th>Smelt</th>\n",
              "      <th>Whitefish</th>\n",
              "    </tr>\n",
              "  </thead>\n",
              "  <tbody>\n",
              "    <tr>\n",
              "      <th>count</th>\n",
              "      <td>156.000000</td>\n",
              "      <td>156.000000</td>\n",
              "      <td>156.000000</td>\n",
              "      <td>156.000000</td>\n",
              "      <td>156.000000</td>\n",
              "      <td>156.000000</td>\n",
              "      <td>156.000000</td>\n",
              "      <td>156.000000</td>\n",
              "      <td>156.000000</td>\n",
              "      <td>156.000000</td>\n",
              "      <td>156.000000</td>\n",
              "      <td>156.000000</td>\n",
              "      <td>156.000000</td>\n",
              "    </tr>\n",
              "    <tr>\n",
              "      <th>mean</th>\n",
              "      <td>375.217308</td>\n",
              "      <td>25.655769</td>\n",
              "      <td>27.786538</td>\n",
              "      <td>30.571154</td>\n",
              "      <td>8.951128</td>\n",
              "      <td>4.375719</td>\n",
              "      <td>0.224359</td>\n",
              "      <td>0.070513</td>\n",
              "      <td>0.358974</td>\n",
              "      <td>0.089744</td>\n",
              "      <td>0.128205</td>\n",
              "      <td>0.089744</td>\n",
              "      <td>0.038462</td>\n",
              "    </tr>\n",
              "    <tr>\n",
              "      <th>std</th>\n",
              "      <td>319.546978</td>\n",
              "      <td>9.119630</td>\n",
              "      <td>9.792651</td>\n",
              "      <td>10.695359</td>\n",
              "      <td>4.324325</td>\n",
              "      <td>1.672188</td>\n",
              "      <td>0.418503</td>\n",
              "      <td>0.256834</td>\n",
              "      <td>0.481245</td>\n",
              "      <td>0.286735</td>\n",
              "      <td>0.335395</td>\n",
              "      <td>0.286735</td>\n",
              "      <td>0.192927</td>\n",
              "    </tr>\n",
              "    <tr>\n",
              "      <th>min</th>\n",
              "      <td>0.000000</td>\n",
              "      <td>7.500000</td>\n",
              "      <td>8.400000</td>\n",
              "      <td>8.800000</td>\n",
              "      <td>1.728400</td>\n",
              "      <td>1.047600</td>\n",
              "      <td>0.000000</td>\n",
              "      <td>0.000000</td>\n",
              "      <td>0.000000</td>\n",
              "      <td>0.000000</td>\n",
              "      <td>0.000000</td>\n",
              "      <td>0.000000</td>\n",
              "      <td>0.000000</td>\n",
              "    </tr>\n",
              "    <tr>\n",
              "      <th>25%</th>\n",
              "      <td>120.000000</td>\n",
              "      <td>19.000000</td>\n",
              "      <td>21.000000</td>\n",
              "      <td>23.025000</td>\n",
              "      <td>5.931675</td>\n",
              "      <td>3.369600</td>\n",
              "      <td>0.000000</td>\n",
              "      <td>0.000000</td>\n",
              "      <td>0.000000</td>\n",
              "      <td>0.000000</td>\n",
              "      <td>0.000000</td>\n",
              "      <td>0.000000</td>\n",
              "      <td>0.000000</td>\n",
              "    </tr>\n",
              "    <tr>\n",
              "      <th>50%</th>\n",
              "      <td>271.000000</td>\n",
              "      <td>25.000000</td>\n",
              "      <td>26.750000</td>\n",
              "      <td>29.250000</td>\n",
              "      <td>7.647800</td>\n",
              "      <td>4.243300</td>\n",
              "      <td>0.000000</td>\n",
              "      <td>0.000000</td>\n",
              "      <td>0.000000</td>\n",
              "      <td>0.000000</td>\n",
              "      <td>0.000000</td>\n",
              "      <td>0.000000</td>\n",
              "      <td>0.000000</td>\n",
              "    </tr>\n",
              "    <tr>\n",
              "      <th>75%</th>\n",
              "      <td>612.500000</td>\n",
              "      <td>32.125000</td>\n",
              "      <td>35.000000</td>\n",
              "      <td>39.425000</td>\n",
              "      <td>12.378550</td>\n",
              "      <td>5.424375</td>\n",
              "      <td>0.000000</td>\n",
              "      <td>0.000000</td>\n",
              "      <td>1.000000</td>\n",
              "      <td>0.000000</td>\n",
              "      <td>0.000000</td>\n",
              "      <td>0.000000</td>\n",
              "      <td>0.000000</td>\n",
              "    </tr>\n",
              "    <tr>\n",
              "      <th>max</th>\n",
              "      <td>1250.000000</td>\n",
              "      <td>52.000000</td>\n",
              "      <td>56.000000</td>\n",
              "      <td>59.700000</td>\n",
              "      <td>18.957000</td>\n",
              "      <td>8.142000</td>\n",
              "      <td>1.000000</td>\n",
              "      <td>1.000000</td>\n",
              "      <td>1.000000</td>\n",
              "      <td>1.000000</td>\n",
              "      <td>1.000000</td>\n",
              "      <td>1.000000</td>\n",
              "      <td>1.000000</td>\n",
              "    </tr>\n",
              "  </tbody>\n",
              "</table>\n",
              "</div>"
            ],
            "text/plain": [
              "            Weight     Length1     Length2  ...       Roach       Smelt   Whitefish\n",
              "count   156.000000  156.000000  156.000000  ...  156.000000  156.000000  156.000000\n",
              "mean    375.217308   25.655769   27.786538  ...    0.128205    0.089744    0.038462\n",
              "std     319.546978    9.119630    9.792651  ...    0.335395    0.286735    0.192927\n",
              "min       0.000000    7.500000    8.400000  ...    0.000000    0.000000    0.000000\n",
              "25%     120.000000   19.000000   21.000000  ...    0.000000    0.000000    0.000000\n",
              "50%     271.000000   25.000000   26.750000  ...    0.000000    0.000000    0.000000\n",
              "75%     612.500000   32.125000   35.000000  ...    0.000000    0.000000    0.000000\n",
              "max    1250.000000   52.000000   56.000000  ...    1.000000    1.000000    1.000000\n",
              "\n",
              "[8 rows x 13 columns]"
            ]
          },
          "metadata": {
            "tags": []
          },
          "execution_count": 76
        }
      ]
    },
    {
      "cell_type": "markdown",
      "metadata": {
        "id": "o7tRFiSGwiRs"
      },
      "source": [
        ">Splitting the data in 70% and 30% for training and testing"
      ]
    },
    {
      "cell_type": "code",
      "metadata": {
        "id": "ND2mK-143nRK"
      },
      "source": [
        "from sklearn.model_selection import train_test_split\n",
        "from sklearn.linear_model import LinearRegression\n",
        "x=data.copy()\n",
        "y=data[\"Weight\"].copy()\n",
        "x.drop(\"Weight\",inplace=True,axis=1)"
      ],
      "execution_count": 95,
      "outputs": []
    },
    {
      "cell_type": "code",
      "metadata": {
        "id": "WY6XqWdr3--e"
      },
      "source": [
        "Xtrain,Xtest,Ytrain,Ytest=train_test_split(x,y,random_state=14,test_size=0.3)"
      ],
      "execution_count": 96,
      "outputs": []
    },
    {
      "cell_type": "code",
      "metadata": {
        "colab": {
          "base_uri": "https://localhost:8080/",
          "height": 195
        },
        "id": "4RUDELMniqa1",
        "outputId": "1ad599b6-6cdc-42cd-dbde-e4ebee172fba"
      },
      "source": [
        "Xtrain[0:5]"
      ],
      "execution_count": 103,
      "outputs": [
        {
          "output_type": "execute_result",
          "data": {
            "text/html": [
              "<div>\n",
              "<style scoped>\n",
              "    .dataframe tbody tr th:only-of-type {\n",
              "        vertical-align: middle;\n",
              "    }\n",
              "\n",
              "    .dataframe tbody tr th {\n",
              "        vertical-align: top;\n",
              "    }\n",
              "\n",
              "    .dataframe thead th {\n",
              "        text-align: right;\n",
              "    }\n",
              "</style>\n",
              "<table border=\"1\" class=\"dataframe\">\n",
              "  <thead>\n",
              "    <tr style=\"text-align: right;\">\n",
              "      <th></th>\n",
              "      <th>Length1</th>\n",
              "      <th>Length2</th>\n",
              "      <th>Length3</th>\n",
              "      <th>Height</th>\n",
              "      <th>Width</th>\n",
              "      <th>Bream</th>\n",
              "      <th>Parkki</th>\n",
              "      <th>Perch</th>\n",
              "      <th>Pike</th>\n",
              "      <th>Roach</th>\n",
              "      <th>Smelt</th>\n",
              "      <th>Whitefish</th>\n",
              "    </tr>\n",
              "  </thead>\n",
              "  <tbody>\n",
              "    <tr>\n",
              "      <th>141</th>\n",
              "      <td>52.0</td>\n",
              "      <td>56.0</td>\n",
              "      <td>59.7</td>\n",
              "      <td>10.6863</td>\n",
              "      <td>6.9849</td>\n",
              "      <td>0</td>\n",
              "      <td>0</td>\n",
              "      <td>0</td>\n",
              "      <td>1</td>\n",
              "      <td>0</td>\n",
              "      <td>0</td>\n",
              "      <td>0</td>\n",
              "    </tr>\n",
              "    <tr>\n",
              "      <th>53</th>\n",
              "      <td>25.0</td>\n",
              "      <td>27.0</td>\n",
              "      <td>30.6</td>\n",
              "      <td>8.5680</td>\n",
              "      <td>4.7736</td>\n",
              "      <td>0</td>\n",
              "      <td>0</td>\n",
              "      <td>0</td>\n",
              "      <td>0</td>\n",
              "      <td>1</td>\n",
              "      <td>0</td>\n",
              "      <td>0</td>\n",
              "    </tr>\n",
              "    <tr>\n",
              "      <th>15</th>\n",
              "      <td>29.4</td>\n",
              "      <td>32.0</td>\n",
              "      <td>37.2</td>\n",
              "      <td>15.4380</td>\n",
              "      <td>5.5800</td>\n",
              "      <td>1</td>\n",
              "      <td>0</td>\n",
              "      <td>0</td>\n",
              "      <td>0</td>\n",
              "      <td>0</td>\n",
              "      <td>0</td>\n",
              "      <td>0</td>\n",
              "    </tr>\n",
              "    <tr>\n",
              "      <th>157</th>\n",
              "      <td>13.2</td>\n",
              "      <td>14.3</td>\n",
              "      <td>15.2</td>\n",
              "      <td>2.8728</td>\n",
              "      <td>2.0672</td>\n",
              "      <td>0</td>\n",
              "      <td>0</td>\n",
              "      <td>0</td>\n",
              "      <td>0</td>\n",
              "      <td>0</td>\n",
              "      <td>1</td>\n",
              "      <td>0</td>\n",
              "    </tr>\n",
              "    <tr>\n",
              "      <th>95</th>\n",
              "      <td>21.5</td>\n",
              "      <td>23.5</td>\n",
              "      <td>25.0</td>\n",
              "      <td>6.2750</td>\n",
              "      <td>3.7250</td>\n",
              "      <td>0</td>\n",
              "      <td>0</td>\n",
              "      <td>1</td>\n",
              "      <td>0</td>\n",
              "      <td>0</td>\n",
              "      <td>0</td>\n",
              "      <td>0</td>\n",
              "    </tr>\n",
              "  </tbody>\n",
              "</table>\n",
              "</div>"
            ],
            "text/plain": [
              "     Length1  Length2  Length3   Height  ...  Pike  Roach  Smelt  Whitefish\n",
              "141     52.0     56.0     59.7  10.6863  ...     1      0      0          0\n",
              "53      25.0     27.0     30.6   8.5680  ...     0      1      0          0\n",
              "15      29.4     32.0     37.2  15.4380  ...     0      0      0          0\n",
              "157     13.2     14.3     15.2   2.8728  ...     0      0      1          0\n",
              "95      21.5     23.5     25.0   6.2750  ...     0      0      0          0\n",
              "\n",
              "[5 rows x 12 columns]"
            ]
          },
          "metadata": {
            "tags": []
          },
          "execution_count": 103
        }
      ]
    },
    {
      "cell_type": "markdown",
      "metadata": {
        "id": "cgw84nlfws7t"
      },
      "source": [
        ">Standardizing the dataset on the basis of training data "
      ]
    },
    {
      "cell_type": "code",
      "metadata": {
        "id": "pUGB5_WzWrMl"
      },
      "source": [
        "sc=StandardScaler()\r\n",
        "Xtrain=sc.fit_transform(Xtrain)"
      ],
      "execution_count": 104,
      "outputs": []
    },
    {
      "cell_type": "code",
      "metadata": {
        "colab": {
          "base_uri": "https://localhost:8080/"
        },
        "id": "Z5et1HXlrj0_",
        "outputId": "82edf554-dd50-4e8b-e636-666a587e8a27"
      },
      "source": [
        "Xtrain[0:5]"
      ],
      "execution_count": 105,
      "outputs": [
        {
          "output_type": "execute_result",
          "data": {
            "text/plain": [
              "array([[ 2.85970566,  2.85320345,  2.69163206,  0.42007584,  1.60991979,\n",
              "        -0.53136893, -0.28143902, -0.76138699,  3.14642654, -0.3350297 ,\n",
              "        -0.3350297 , -0.2192645 ],\n",
              "       [-0.04150216, -0.04968242,  0.0330241 , -0.06276248,  0.28592179,\n",
              "        -0.53136893, -0.28143902, -0.76138699, -0.31782086,  2.98481003,\n",
              "        -0.3350297 , -0.2192645 ],\n",
              "       [ 0.43128727,  0.45081515,  0.63600735,  1.50316266,  0.76874727,\n",
              "         1.88193163, -0.28143902, -0.76138699, -0.31782086, -0.3350297 ,\n",
              "        -0.3350297 , -0.2192645 ],\n",
              "       [-1.30943743, -1.32094623, -1.37393681, -1.36090757, -1.33451334,\n",
              "        -0.53136893, -0.28143902, -0.76138699, -0.31782086, -0.3350297 ,\n",
              "         2.98481003, -0.2192645 ],\n",
              "       [-0.41758465, -0.40003071, -0.47859805, -0.58542133, -0.34191899,\n",
              "        -0.53136893, -0.28143902,  1.31339255, -0.31782086, -0.3350297 ,\n",
              "        -0.3350297 , -0.2192645 ]])"
            ]
          },
          "metadata": {
            "tags": []
          },
          "execution_count": 105
        }
      ]
    },
    {
      "cell_type": "code",
      "metadata": {
        "id": "ulK35UuaXKiE"
      },
      "source": [
        "Xtest=sc.transform(Xtest)"
      ],
      "execution_count": 106,
      "outputs": []
    },
    {
      "cell_type": "markdown",
      "metadata": {
        "id": "3COSuHtKwY9y"
      },
      "source": [
        ">Building the Linear Regression model"
      ]
    },
    {
      "cell_type": "code",
      "metadata": {
        "id": "5xjXz9xY3_Bb"
      },
      "source": [
        "le=LinearRegression()"
      ],
      "execution_count": 107,
      "outputs": []
    },
    {
      "cell_type": "code",
      "metadata": {
        "colab": {
          "base_uri": "https://localhost:8080/"
        },
        "id": "Sowx0SPp3_Cx",
        "outputId": "a3c6bff7-d652-4931-d12e-87e5169778e2"
      },
      "source": [
        "le.fit(Xtrain,Ytrain)"
      ],
      "execution_count": 108,
      "outputs": [
        {
          "output_type": "execute_result",
          "data": {
            "text/plain": [
              "LinearRegression(copy_X=True, fit_intercept=True, n_jobs=None, normalize=False)"
            ]
          },
          "metadata": {
            "tags": []
          },
          "execution_count": 108
        }
      ]
    },
    {
      "cell_type": "code",
      "metadata": {
        "id": "wSqv_2dp3_GM"
      },
      "source": [
        "predy=le.predict(Xtest)\n"
      ],
      "execution_count": 109,
      "outputs": []
    },
    {
      "cell_type": "code",
      "metadata": {
        "id": "K-YPrN825CKP"
      },
      "source": [
        "from sklearn.metrics import r2_score\n",
        "acc=r2_score(Ytest,predy)"
      ],
      "execution_count": 110,
      "outputs": []
    },
    {
      "cell_type": "markdown",
      "metadata": {
        "id": "0uhFbfcNw2gK"
      },
      "source": [
        "Checking accuracy of the Model"
      ]
    },
    {
      "cell_type": "code",
      "metadata": {
        "colab": {
          "base_uri": "https://localhost:8080/"
        },
        "id": "ZsLFDDrD5OiD",
        "outputId": "593ba4dc-cf07-49f7-906c-4c0c3255470c"
      },
      "source": [
        "print(\"Our modell is\",format(round(acc*100,1)),\"% accurate\")"
      ],
      "execution_count": 135,
      "outputs": [
        {
          "output_type": "stream",
          "text": [
            "Our modell is 95.2 % accurate\n"
          ],
          "name": "stdout"
        }
      ]
    },
    {
      "cell_type": "code",
      "metadata": {
        "id": "mAUZk2967IPR"
      },
      "source": [
        "new_dataset=pd.DataFrame({'Ytest':Ytest,'Predy':predy})"
      ],
      "execution_count": 113,
      "outputs": []
    },
    {
      "cell_type": "markdown",
      "metadata": {
        "id": "6XSlnNPQyaG1"
      },
      "source": [
        ">Plotting the graph of Predicted value with respect to Observed value"
      ]
    },
    {
      "cell_type": "code",
      "metadata": {
        "colab": {
          "base_uri": "https://localhost:8080/",
          "height": 391
        },
        "id": "81xB2uoY65XY",
        "outputId": "a04e4eb4-15a7-4e48-bdd8-27da83677fff"
      },
      "source": [
        "import matplotlib.pyplot as plt\n",
        "plt.scatter(data=new_dataset,x=\"Ytest\",y=\"Predy\",color='black')"
      ],
      "execution_count": 114,
      "outputs": [
        {
          "output_type": "execute_result",
          "data": {
            "text/plain": [
              "<matplotlib.collections.PathCollection at 0x7f4232a92a50>"
            ]
          },
          "metadata": {
            "tags": []
          },
          "execution_count": 114
        },
        {
          "output_type": "display_data",
          "data": {
            "image/png": "[encoded data removed]",
            "text/plain": [
              "<Figure size 1296x432 with 1 Axes>"
            ]
          },
          "metadata": {
            "tags": [],
            "needs_background": "light"
          }
        }
      ]
    }
  ]
}